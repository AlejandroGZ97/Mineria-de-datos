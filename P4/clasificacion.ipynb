{
 "cells": [
  {
   "cell_type": "code",
   "execution_count": 1,
   "id": "fd72e665",
   "metadata": {},
   "outputs": [],
   "source": [
    "import numpy as np\n",
    "import pandas as pd\n",
    "import matplotlib.pyplot as plt\n",
    "import seaborn as sns\n",
    "\n",
    "from sklearn.model_selection import train_test_split, KFold, LeaveOneOut, StratifiedKFold\n",
    "from sklearn.preprocessing import StandardScaler\n",
    "from sklearn.metrics import confusion_matrix\n",
    "\n",
    "from sklearn.neighbors import KNeighborsClassifier, RadiusNeighborsClassifier\n",
    "from sklearn.tree import DecisionTreeClassifier, ExtraTreeClassifier\n",
    "from sklearn.linear_model import RidgeClassifier\n",
    "#from sklearn.linear_model import LogisticRegression\n",
    "#from sklearn.ensemble import AdaBoostClassifier\n",
    "\n",
    "from imblearn.under_sampling import RandomUnderSampler,EditedNearestNeighbours"
   ]
  },
  {
   "cell_type": "code",
   "execution_count": 2,
   "id": "1a484eb0",
   "metadata": {},
   "outputs": [
    {
     "data": {
      "text/html": [
       "<div>\n",
       "<style scoped>\n",
       "    .dataframe tbody tr th:only-of-type {\n",
       "        vertical-align: middle;\n",
       "    }\n",
       "\n",
       "    .dataframe tbody tr th {\n",
       "        vertical-align: top;\n",
       "    }\n",
       "\n",
       "    .dataframe thead th {\n",
       "        text-align: right;\n",
       "    }\n",
       "</style>\n",
       "<table border=\"1\" class=\"dataframe\">\n",
       "  <thead>\n",
       "    <tr style=\"text-align: right;\">\n",
       "      <th></th>\n",
       "      <th>type</th>\n",
       "      <th>fixed acidity</th>\n",
       "      <th>volatile acidity</th>\n",
       "      <th>citric acid</th>\n",
       "      <th>residual sugar</th>\n",
       "      <th>chlorides</th>\n",
       "      <th>free sulfur dioxide</th>\n",
       "      <th>total sulfur dioxide</th>\n",
       "      <th>density</th>\n",
       "      <th>pH</th>\n",
       "      <th>sulphates</th>\n",
       "      <th>alcohol</th>\n",
       "      <th>quality</th>\n",
       "    </tr>\n",
       "  </thead>\n",
       "  <tbody>\n",
       "    <tr>\n",
       "      <th>0</th>\n",
       "      <td>white</td>\n",
       "      <td>7.0</td>\n",
       "      <td>0.27</td>\n",
       "      <td>0.36</td>\n",
       "      <td>20.7</td>\n",
       "      <td>0.045</td>\n",
       "      <td>45.0</td>\n",
       "      <td>170.0</td>\n",
       "      <td>1.0010</td>\n",
       "      <td>3.00</td>\n",
       "      <td>0.45</td>\n",
       "      <td>8.8</td>\n",
       "      <td>6</td>\n",
       "    </tr>\n",
       "    <tr>\n",
       "      <th>1</th>\n",
       "      <td>white</td>\n",
       "      <td>6.3</td>\n",
       "      <td>0.30</td>\n",
       "      <td>0.34</td>\n",
       "      <td>1.6</td>\n",
       "      <td>0.049</td>\n",
       "      <td>14.0</td>\n",
       "      <td>132.0</td>\n",
       "      <td>0.9940</td>\n",
       "      <td>3.30</td>\n",
       "      <td>0.49</td>\n",
       "      <td>9.5</td>\n",
       "      <td>6</td>\n",
       "    </tr>\n",
       "    <tr>\n",
       "      <th>2</th>\n",
       "      <td>white</td>\n",
       "      <td>8.1</td>\n",
       "      <td>0.28</td>\n",
       "      <td>0.40</td>\n",
       "      <td>6.9</td>\n",
       "      <td>0.050</td>\n",
       "      <td>30.0</td>\n",
       "      <td>97.0</td>\n",
       "      <td>0.9951</td>\n",
       "      <td>3.26</td>\n",
       "      <td>0.44</td>\n",
       "      <td>10.1</td>\n",
       "      <td>6</td>\n",
       "    </tr>\n",
       "    <tr>\n",
       "      <th>3</th>\n",
       "      <td>white</td>\n",
       "      <td>7.2</td>\n",
       "      <td>0.23</td>\n",
       "      <td>0.32</td>\n",
       "      <td>8.5</td>\n",
       "      <td>0.058</td>\n",
       "      <td>47.0</td>\n",
       "      <td>186.0</td>\n",
       "      <td>0.9956</td>\n",
       "      <td>3.19</td>\n",
       "      <td>0.40</td>\n",
       "      <td>9.9</td>\n",
       "      <td>6</td>\n",
       "    </tr>\n",
       "    <tr>\n",
       "      <th>4</th>\n",
       "      <td>white</td>\n",
       "      <td>7.2</td>\n",
       "      <td>0.23</td>\n",
       "      <td>0.32</td>\n",
       "      <td>8.5</td>\n",
       "      <td>0.058</td>\n",
       "      <td>47.0</td>\n",
       "      <td>186.0</td>\n",
       "      <td>0.9956</td>\n",
       "      <td>3.19</td>\n",
       "      <td>0.40</td>\n",
       "      <td>9.9</td>\n",
       "      <td>6</td>\n",
       "    </tr>\n",
       "  </tbody>\n",
       "</table>\n",
       "</div>"
      ],
      "text/plain": [
       "    type  fixed acidity  volatile acidity  citric acid  residual sugar  \\\n",
       "0  white            7.0              0.27         0.36            20.7   \n",
       "1  white            6.3              0.30         0.34             1.6   \n",
       "2  white            8.1              0.28         0.40             6.9   \n",
       "3  white            7.2              0.23         0.32             8.5   \n",
       "4  white            7.2              0.23         0.32             8.5   \n",
       "\n",
       "   chlorides  free sulfur dioxide  total sulfur dioxide  density    pH  \\\n",
       "0      0.045                 45.0                 170.0   1.0010  3.00   \n",
       "1      0.049                 14.0                 132.0   0.9940  3.30   \n",
       "2      0.050                 30.0                  97.0   0.9951  3.26   \n",
       "3      0.058                 47.0                 186.0   0.9956  3.19   \n",
       "4      0.058                 47.0                 186.0   0.9956  3.19   \n",
       "\n",
       "   sulphates  alcohol  quality  \n",
       "0       0.45      8.8        6  \n",
       "1       0.49      9.5        6  \n",
       "2       0.44     10.1        6  \n",
       "3       0.40      9.9        6  \n",
       "4       0.40      9.9        6  "
      ]
     },
     "execution_count": 2,
     "metadata": {},
     "output_type": "execute_result"
    }
   ],
   "source": [
    "vinos = pd.read_csv('winequalityN.csv')\n",
    "vinos.head()"
   ]
  },
  {
   "cell_type": "code",
   "execution_count": 3,
   "id": "2f482a6a",
   "metadata": {},
   "outputs": [
    {
     "name": "stdout",
     "output_type": "stream",
     "text": [
      "<class 'pandas.core.frame.DataFrame'>\n",
      "RangeIndex: 6497 entries, 0 to 6496\n",
      "Data columns (total 13 columns):\n",
      " #   Column                Non-Null Count  Dtype  \n",
      "---  ------                --------------  -----  \n",
      " 0   type                  6497 non-null   object \n",
      " 1   fixed acidity         6487 non-null   float64\n",
      " 2   volatile acidity      6489 non-null   float64\n",
      " 3   citric acid           6494 non-null   float64\n",
      " 4   residual sugar        6495 non-null   float64\n",
      " 5   chlorides             6495 non-null   float64\n",
      " 6   free sulfur dioxide   6497 non-null   float64\n",
      " 7   total sulfur dioxide  6497 non-null   float64\n",
      " 8   density               6497 non-null   float64\n",
      " 9   pH                    6488 non-null   float64\n",
      " 10  sulphates             6493 non-null   float64\n",
      " 11  alcohol               6497 non-null   float64\n",
      " 12  quality               6497 non-null   int64  \n",
      "dtypes: float64(11), int64(1), object(1)\n",
      "memory usage: 660.0+ KB\n"
     ]
    }
   ],
   "source": [
    "vinos.info()"
   ]
  },
  {
   "cell_type": "code",
   "execution_count": 4,
   "id": "fc04b17a",
   "metadata": {},
   "outputs": [
    {
     "data": {
      "text/plain": [
       "type                     0\n",
       "fixed acidity           10\n",
       "volatile acidity         8\n",
       "citric acid              3\n",
       "residual sugar           2\n",
       "chlorides                2\n",
       "free sulfur dioxide      0\n",
       "total sulfur dioxide     0\n",
       "density                  0\n",
       "pH                       9\n",
       "sulphates                4\n",
       "alcohol                  0\n",
       "quality                  0\n",
       "dtype: int64"
      ]
     },
     "execution_count": 4,
     "metadata": {},
     "output_type": "execute_result"
    }
   ],
   "source": [
    "vinos.isna().sum()"
   ]
  },
  {
   "cell_type": "code",
   "execution_count": 5,
   "id": "da0e1431",
   "metadata": {},
   "outputs": [
    {
     "name": "stdout",
     "output_type": "stream",
     "text": [
      "<class 'pandas.core.frame.DataFrame'>\n",
      "Int64Index: 6463 entries, 0 to 6496\n",
      "Data columns (total 13 columns):\n",
      " #   Column                Non-Null Count  Dtype  \n",
      "---  ------                --------------  -----  \n",
      " 0   type                  6463 non-null   int64  \n",
      " 1   fixed acidity         6463 non-null   float64\n",
      " 2   volatile acidity      6463 non-null   float64\n",
      " 3   citric acid           6463 non-null   float64\n",
      " 4   residual sugar        6463 non-null   float64\n",
      " 5   chlorides             6463 non-null   float64\n",
      " 6   free sulfur dioxide   6463 non-null   float64\n",
      " 7   total sulfur dioxide  6463 non-null   float64\n",
      " 8   density               6463 non-null   float64\n",
      " 9   pH                    6463 non-null   float64\n",
      " 10  sulphates             6463 non-null   float64\n",
      " 11  alcohol               6463 non-null   float64\n",
      " 12  quality               6463 non-null   int64  \n",
      "dtypes: float64(11), int64(2)\n",
      "memory usage: 706.9 KB\n"
     ]
    }
   ],
   "source": [
    "vinos = vinos.dropna()\n",
    "vinos.replace({'red':0,'white':1}, inplace=True)\n",
    "vinos.info()"
   ]
  },
  {
   "cell_type": "code",
   "execution_count": 6,
   "id": "da9932de",
   "metadata": {},
   "outputs": [
    {
     "data": {
      "image/png": "[encoded data removed]",
      "text/plain": [
       "<Figure size 1000x800 with 1 Axes>"
      ]
     },
     "metadata": {},
     "output_type": "display_data"
    }
   ],
   "source": [
    "plt.figure(figsize = (10,8))\n",
    "sns.barplot(x = vinos['quality'].value_counts().index,\n",
    "            y = vinos['quality'].value_counts()).set(title = \"Calidad de los vinos\");\n",
    "\n",
    "plt.show()"
   ]
  },
  {
   "cell_type": "code",
   "execution_count": 7,
   "id": "c54d8fb9",
   "metadata": {},
   "outputs": [
    {
     "data": {
      "image/png": "[encoded data removed]",
      "text/plain": [
       "<Figure size 1000x800 with 1 Axes>"
      ]
     },
     "metadata": {},
     "output_type": "display_data"
    }
   ],
   "source": [
    "vinos['quality']=[1 if x>5 else 0 for x in vinos.quality]\n",
    "plt.figure(figsize = (10,8))\n",
    "sns.barplot(x = vinos['quality'].value_counts().index,\n",
    "            y = vinos['quality'].value_counts()).set(title = \"Calidad de los vinos\");\n",
    "\n",
    "plt.show()"
   ]
  },
  {
   "cell_type": "code",
   "execution_count": 8,
   "id": "629cbb97",
   "metadata": {},
   "outputs": [
    {
     "name": "stderr",
     "output_type": "stream",
     "text": [
      "C:\\Users\\nitus\\AppData\\Local\\Temp\\ipykernel_8952\\3465895310.py:1: FutureWarning: In a future version of pandas all arguments of DataFrame.drop except for the argument 'labels' will be keyword-only.\n",
      "  x = vinos.drop('quality',1).values\n"
     ]
    }
   ],
   "source": [
    "x = vinos.drop('quality',1).values\n",
    "y = vinos['quality'].values\n",
    "\n",
    "scaler = StandardScaler()\n",
    "x = scaler.fit_transform(x)\n",
    "\n",
    "rus = EditedNearestNeighbours()\n",
    "X_res, Y_res = rus.fit_resample(x, y)\n",
    "rus = RandomUnderSampler()\n",
    "x_res, y_res = rus.fit_resample(X_res, Y_res)"
   ]
  },
  {
   "cell_type": "code",
   "execution_count": 9,
   "id": "92f129b7",
   "metadata": {},
   "outputs": [],
   "source": [
    "modelos = [('KNN',KNeighborsClassifier(n_neighbors=2)),\n",
    "           ('RN',RadiusNeighborsClassifier(radius=80.0, weights='distance')),\n",
    "           ('Decision Tree',DecisionTreeClassifier()),\n",
    "           ('Extra Tree',ExtraTreeClassifier()),\n",
    "           ('Ridge',RidgeClassifier(tol=1e-5))]\n",
    "\n",
    "'''        ('KNN',KNeighborsClassifier(n_neighbors=1)),\n",
    "           ('RN',RadiusNeighborsClassifier(radius=80.0, weights='distance')),\n",
    "           ('Decision Tree',DecisionTreeClassifier()),\n",
    "           ('Extra Tree',ExtraTreeClassifier()),\n",
    "           ('Ridge',RidgeClassifier(tol=1e-5))\n",
    "           ('SVM',SVC(C=19870)),\n",
    "           ('GPC',GaussianProcessClassifier(n_restarts_optimizer=3)),\n",
    "           ('Ada Boost', AdaBoostClassifier(n_estimators=10000, learning_rate=0.2),\n",
    "           ('Logistic Regression', LogisticRegression(C=100, max_iter=10000)),\n",
    "           '''\n",
    "\n",
    "\n",
    "resultado_accuracy = []\n",
    "resultado_error = []\n",
    "resultado_precision = []\n",
    "resultado_sensitivity = []\n",
    "resultado_specifity = []"
   ]
  },
  {
   "cell_type": "code",
   "execution_count": 10,
   "id": "925e9d4d",
   "metadata": {},
   "outputs": [
    {
     "name": "stdout",
     "output_type": "stream",
     "text": [
      "Matriz de confusion Total Recognition (%)\n",
      "TP: 804  FN: 158    |962  |83.57588357588358\n",
      "FP: 71  TN: 865    |936  |92.41452991452991\n",
      "T:  875     1023    |1898 |87.93466807165437\n",
      "\n",
      "Exactitud\n",
      "\n"
     ]
    },
    {
     "data": {
      "text/plain": [
       "[('KNN', 0.8793466807165438),\n",
       " ('RN', 0.839831401475237),\n",
       " ('Decision Tree', 0.8356164383561644),\n",
       " ('Extra Tree', 0.8071654373024236),\n",
       " ('Ridge', 0.8008429926238145)]"
      ]
     },
     "execution_count": 10,
     "metadata": {},
     "output_type": "execute_result"
    }
   ],
   "source": [
    "#Hold-Out (60/40)\n",
    "X_train, X_test, Y_train, Y_test = train_test_split(x_res, y_res, test_size=0.40)\n",
    "\n",
    "for nombre,modelo in modelos:\n",
    "    modelo.fit(X_train,Y_train)\n",
    "    y_pred = modelo.predict(X_test)\n",
    "    tn, fp, fn, tp = confusion_matrix(Y_test,y_pred).ravel()\n",
    "    if nombre == 'KNN':\n",
    "        print(\"Matriz de confusion Total Recognition (%)\")\n",
    "        print(\"TP: \"+str(tp)+\"  FN: \"+str(fn)+\"    |\"+str(tp+fn)+\"  |\"+str((tp*100)/(tp+fn)))\n",
    "        print(\"FP: \"+str(fp)+\"  TN: \"+str(tn)+\"    |\"+str(fp+tn)+\"  |\"+str((tn*100)/(tn+fp)))\n",
    "        print(\"T:  \"+str(tp+fp)+\"     \"+str(fn+tn)+\"    |\"+str(tp+fn+fp+tn)+\" |\"+str((tp+tn)*100/(tp+fn+fp+tn)))\n",
    "    #EXACTITUD\n",
    "    exactitud = (tp+tn)/(tp+fp+tn+fn)\n",
    "    resultado_accuracy.append((nombre,exactitud))\n",
    "    #TASA DE ERROR\n",
    "    error = (fp+fn)/(tp+fp+tn+fn)\n",
    "    resultado_error.append((nombre,error))\n",
    "    #PRECISION\n",
    "    precision = tp/(tp+fp)\n",
    "    resultado_precision.append((nombre,precision))\n",
    "    #SENSIVILIDAD\n",
    "    sensitivity = tp/(tp+fn)\n",
    "    resultado_sensitivity.append((nombre,sensitivity))\n",
    "    #ESPECIFIDAD\n",
    "    specifity = tn/(fp+tn)\n",
    "    resultado_specifity.append((nombre,specifity))\n",
    "\n",
    "resultado_accuracy.sort(key=lambda k:k[1], reverse=True)\n",
    "resultado_error.sort(key=lambda k:k[1], reverse=True)\n",
    "resultado_precision.sort(key=lambda k:k[1], reverse=True)\n",
    "resultado_sensitivity.sort(key=lambda k:k[1], reverse=True)\n",
    "resultado_specifity.sort(key=lambda k:k[1], reverse=True)\n",
    "print(\"\\nExactitud\\n\")\n",
    "resultado_accuracy"
   ]
  },
  {
   "cell_type": "code",
   "execution_count": 11,
   "id": "a4822cd7",
   "metadata": {},
   "outputs": [
    {
     "name": "stdout",
     "output_type": "stream",
     "text": [
      "Tasa de error\n"
     ]
    },
    {
     "data": {
      "text/plain": [
       "[('Ridge', 0.19915700737618547),\n",
       " ('Extra Tree', 0.1928345626975764),\n",
       " ('Decision Tree', 0.1643835616438356),\n",
       " ('RN', 0.1601685985247629),\n",
       " ('KNN', 0.12065331928345627)]"
      ]
     },
     "execution_count": 11,
     "metadata": {},
     "output_type": "execute_result"
    }
   ],
   "source": [
    "print(\"Tasa de error\")\n",
    "resultado_error"
   ]
  },
  {
   "cell_type": "code",
   "execution_count": 12,
   "id": "f73cbad9",
   "metadata": {},
   "outputs": [
    {
     "name": "stdout",
     "output_type": "stream",
     "text": [
      "Precision\n"
     ]
    },
    {
     "data": {
      "text/plain": [
       "[('KNN', 0.9188571428571428),\n",
       " ('Decision Tree', 0.8302845528455285),\n",
       " ('Extra Tree', 0.8163481953290871),\n",
       " ('RN', 0.8145315487571702),\n",
       " ('Ridge', 0.8016528925619835)]"
      ]
     },
     "execution_count": 12,
     "metadata": {},
     "output_type": "execute_result"
    }
   ],
   "source": [
    "print(\"Precision\")\n",
    "resultado_precision"
   ]
  },
  {
   "cell_type": "code",
   "execution_count": 13,
   "id": "950b9afa",
   "metadata": {},
   "outputs": [
    {
     "name": "stdout",
     "output_type": "stream",
     "text": [
      "Sensivilidad\n"
     ]
    },
    {
     "data": {
      "text/plain": [
       "[('RN', 0.8856548856548857),\n",
       " ('Decision Tree', 0.8492723492723493),\n",
       " ('KNN', 0.8357588357588358),\n",
       " ('Ridge', 0.8066528066528067),\n",
       " ('Extra Tree', 0.7993762993762994)]"
      ]
     },
     "execution_count": 13,
     "metadata": {},
     "output_type": "execute_result"
    }
   ],
   "source": [
    "print(\"Sensivilidad\")\n",
    "resultado_sensitivity"
   ]
  },
  {
   "cell_type": "code",
   "execution_count": 14,
   "id": "b02031d2",
   "metadata": {},
   "outputs": [
    {
     "name": "stdout",
     "output_type": "stream",
     "text": [
      "Especifidad\n"
     ]
    },
    {
     "data": {
      "text/plain": [
       "[('KNN', 0.9241452991452992),\n",
       " ('Decision Tree', 0.8215811965811965),\n",
       " ('Extra Tree', 0.8151709401709402),\n",
       " ('Ridge', 0.7948717948717948),\n",
       " ('RN', 0.7927350427350427)]"
      ]
     },
     "execution_count": 14,
     "metadata": {},
     "output_type": "execute_result"
    }
   ],
   "source": [
    "print(\"Especifidad\")\n",
    "resultado_specifity"
   ]
  },
  {
   "cell_type": "code",
   "execution_count": 15,
   "id": "3ef35af2",
   "metadata": {},
   "outputs": [],
   "source": [
    "resultado_accuracy.clear()\n",
    "resultado_error.clear()\n",
    "resultado_precision.clear()\n",
    "resultado_sensitivity.clear()\n",
    "resultado_specifity.clear()"
   ]
  },
  {
   "cell_type": "code",
   "execution_count": 16,
   "id": "13b176ec",
   "metadata": {},
   "outputs": [
    {
     "name": "stdout",
     "output_type": "stream",
     "text": [
      "Matriz de confusion Total Recognition (%)\n",
      "TP: 2331  FN: 41    |2372  |98.27150084317032\n",
      "FP: 0  TN: 2372    |2372  |100.0\n",
      "T:  2331     2413    |4744 |99.13575042158516\n",
      "\n",
      "Exactitud\n",
      "\n"
     ]
    },
    {
     "data": {
      "text/plain": [
       "[('RN', 1.0),\n",
       " ('Decision Tree', 1.0),\n",
       " ('Extra Tree', 1.0),\n",
       " ('KNN', 0.9913575042158516),\n",
       " ('Ridge', 0.7974283305227656)]"
      ]
     },
     "execution_count": 16,
     "metadata": {},
     "output_type": "execute_result"
    }
   ],
   "source": [
    "#Hold-Out (100/100)\n",
    "for nombre,modelo in modelos:\n",
    "    modelo.fit(x_res,y_res)\n",
    "    y_pred = modelo.predict(x_res)\n",
    "    tn, fp, fn, tp = confusion_matrix(y_res,y_pred).ravel()\n",
    "    if nombre == 'KNN':\n",
    "        print(\"Matriz de confusion Total Recognition (%)\")\n",
    "        print(\"TP: \"+str(tp)+\"  FN: \"+str(fn)+\"    |\"+str(tp+fn)+\"  |\"+str((tp*100)/(tp+fn)))\n",
    "        print(\"FP: \"+str(fp)+\"  TN: \"+str(tn)+\"    |\"+str(fp+tn)+\"  |\"+str((tn*100)/(tn+fp)))\n",
    "        print(\"T:  \"+str(tp+fp)+\"     \"+str(fn+tn)+\"    |\"+str(tp+fn+fp+tn)+\" |\"+str((tp+tn)*100/(tp+fn+fp+tn)))\n",
    "    #EXACTITUD\n",
    "    exactitud = (tp+tn)/(tp+fp+tn+fn)\n",
    "    resultado_accuracy.append((nombre,exactitud))\n",
    "    #TASA DE ERROR\n",
    "    error = (fp+fn)/(tp+fp+tn+fn)\n",
    "    resultado_error.append((nombre,error))\n",
    "    #PRECISION\n",
    "    precision = tp/(tp+fp)\n",
    "    resultado_precision.append((nombre,precision))\n",
    "    #SENSIVILIDAD\n",
    "    sensitivity = tp/(tp+fn)\n",
    "    resultado_sensitivity.append((nombre,sensitivity))\n",
    "    #ESPECIFIDAD\n",
    "    specifity = tn/(fp+tn)\n",
    "    resultado_specifity.append((nombre,specifity))\n",
    "\n",
    "resultado_accuracy.sort(key=lambda k:k[1], reverse=True)\n",
    "resultado_error.sort(key=lambda k:k[1], reverse=True)\n",
    "resultado_precision.sort(key=lambda k:k[1], reverse=True)\n",
    "resultado_sensitivity.sort(key=lambda k:k[1], reverse=True)\n",
    "resultado_specifity.sort(key=lambda k:k[1], reverse=True)\n",
    "print(\"\\nExactitud\\n\")\n",
    "resultado_accuracy"
   ]
  },
  {
   "cell_type": "code",
   "execution_count": 17,
   "id": "5c162652",
   "metadata": {},
   "outputs": [
    {
     "name": "stdout",
     "output_type": "stream",
     "text": [
      "Tasa de error\n"
     ]
    },
    {
     "data": {
      "text/plain": [
       "[('Ridge', 0.2025716694772344),\n",
       " ('KNN', 0.008642495784148397),\n",
       " ('RN', 0.0),\n",
       " ('Decision Tree', 0.0),\n",
       " ('Extra Tree', 0.0)]"
      ]
     },
     "execution_count": 17,
     "metadata": {},
     "output_type": "execute_result"
    }
   ],
   "source": [
    "print(\"Tasa de error\")\n",
    "resultado_error"
   ]
  },
  {
   "cell_type": "code",
   "execution_count": 18,
   "id": "91aa4608",
   "metadata": {
    "scrolled": true
   },
   "outputs": [
    {
     "name": "stdout",
     "output_type": "stream",
     "text": [
      "Precision\n"
     ]
    },
    {
     "data": {
      "text/plain": [
       "[('KNN', 1.0),\n",
       " ('RN', 1.0),\n",
       " ('Decision Tree', 1.0),\n",
       " ('Extra Tree', 1.0),\n",
       " ('Ridge', 0.7975537747785745)]"
      ]
     },
     "execution_count": 18,
     "metadata": {},
     "output_type": "execute_result"
    }
   ],
   "source": [
    "print(\"Precision\")\n",
    "resultado_precision"
   ]
  },
  {
   "cell_type": "code",
   "execution_count": 19,
   "id": "6163c18e",
   "metadata": {},
   "outputs": [
    {
     "name": "stdout",
     "output_type": "stream",
     "text": [
      "Sensivilidad\n"
     ]
    },
    {
     "data": {
      "text/plain": [
       "[('RN', 1.0),\n",
       " ('Decision Tree', 1.0),\n",
       " ('Extra Tree', 1.0),\n",
       " ('KNN', 0.9827150084317032),\n",
       " ('Ridge', 0.7972175379426644)]"
      ]
     },
     "execution_count": 19,
     "metadata": {},
     "output_type": "execute_result"
    }
   ],
   "source": [
    "print(\"Sensivilidad\")\n",
    "resultado_sensitivity"
   ]
  },
  {
   "cell_type": "code",
   "execution_count": 20,
   "id": "956e1547",
   "metadata": {},
   "outputs": [
    {
     "name": "stdout",
     "output_type": "stream",
     "text": [
      "Especifidad\n"
     ]
    },
    {
     "data": {
      "text/plain": [
       "[('KNN', 1.0),\n",
       " ('RN', 1.0),\n",
       " ('Decision Tree', 1.0),\n",
       " ('Extra Tree', 1.0),\n",
       " ('Ridge', 0.7976391231028668)]"
      ]
     },
     "execution_count": 20,
     "metadata": {},
     "output_type": "execute_result"
    }
   ],
   "source": [
    "print(\"Especifidad\")\n",
    "resultado_specifity"
   ]
  },
  {
   "cell_type": "code",
   "execution_count": 21,
   "id": "42e9ec1f",
   "metadata": {},
   "outputs": [],
   "source": [
    "resultado_accuracy.clear()\n",
    "resultado_error.clear()\n",
    "resultado_precision.clear()\n",
    "resultado_sensitivity.clear()\n",
    "resultado_specifity.clear()"
   ]
  },
  {
   "cell_type": "code",
   "execution_count": 22,
   "id": "833784f6",
   "metadata": {},
   "outputs": [
    {
     "name": "stdout",
     "output_type": "stream",
     "text": [
      "Matriz de confusion    Total   Recognition (%)\n",
      "TP: 538.0  FN: 57.43333333333333    |595.4333333333333  |90.354\n",
      "FP: 48.7  TN: 541.8666666666667    |590.5666666666667  |91.754\n",
      "T:  586.7     599.3    |1186.0 |91.051\n",
      "\n",
      "Exactitud\n",
      "\n"
     ]
    },
    {
     "data": {
      "text/plain": [
       "[('KNN', 0.9105115233277122),\n",
       " ('Decision Tree', 0.8489038785834739),\n",
       " ('RN', 0.8363687464867904),\n",
       " ('Extra Tree', 0.8326306913996628),\n",
       " ('Ridge', 0.79283305227656)]"
      ]
     },
     "execution_count": 22,
     "metadata": {},
     "output_type": "execute_result"
    }
   ],
   "source": [
    "#Random subsampling (N=30)\n",
    "exactitud = [0,0,0,0,0]\n",
    "error = [0,0,0,0,0]\n",
    "precision = [0,0,0,0,0]\n",
    "sensitivity = [0,0,0,0,0]\n",
    "specifity = [0,0,0,0,0]\n",
    "\n",
    "tn2=0\n",
    "fp2=0\n",
    "fn2=0\n",
    "tp2=0\n",
    "\n",
    "for i in range(30):\n",
    "    j=0\n",
    "    X_train, X_test, Y_train, Y_test = train_test_split(x_res, y_res)\n",
    "\n",
    "    for nombre,modelo in modelos:\n",
    "        modelo.fit(X_train,Y_train)\n",
    "        y_pred = modelo.predict(X_test)\n",
    "        tn, fp, fn, tp = confusion_matrix(Y_test,y_pred).ravel()\n",
    "        if nombre == 'KNN':\n",
    "            tn2 += tn\n",
    "            fp2 += fp\n",
    "            fn2 += fn\n",
    "            tp2 += tp\n",
    "        #EXACTITUD\n",
    "        if (tp+fp+tn+fn) != 0:\n",
    "            exactitud[j] += (tp+tn)/(tp+fp+tn+fn)\n",
    "        #TASA DE ERROR\n",
    "            error[j] += (fp+fn)/(tp+fp+tn+fn)\n",
    "        #PRECISION\n",
    "        if (tp+fp) != 0:\n",
    "            precision[j] += tp/(tp+fp)\n",
    "        #SENSIVILIDAD\n",
    "        if (tp+fn) != 0:\n",
    "            sensitivity[j] += tp/(tp+fn)\n",
    "        #ESPECIFIDAD\n",
    "        if (tn+fp) != 0:\n",
    "            specifity[j] += tn/(fp+tn)\n",
    "        j += 1\n",
    "\n",
    "tn2 /= 30\n",
    "fp2 /= 30\n",
    "fn2 /= 30\n",
    "tp2 /= 30\n",
    "\n",
    "print(\"Matriz de confusion    Total   Recognition (%)\")\n",
    "print(\"TP: \"+str(tp2)+\"  FN: \"+str(fn2)+\"    |\"+str(tp2+fn2)+\"  |\"+str(0 if (tp2+fn2) == 0 else round((tp2*100)/(tp2+fn2),3)))\n",
    "print(\"FP: \"+str(fp2)+\"  TN: \"+str(tn2)+\"    |\"+str(fp2+tn2)+\"  |\"+str(0 if (tp2+fn2) == 0 else round((tn2*100)/(tn2+fp2),3)))\n",
    "print(\"T:  \"+str(tp2+fp2)+\"     \"+str(fn2+tn2)+\"    |\"+str(tp2+fn2+fp2+tn2)+\" |\"+str(0 if (tp2+fn2+fp2+tn2) == 0 else round((tp2+tn2)*100/(tp2+fn2+fp2+tn2),3)))\n",
    "\n",
    "i = 0\n",
    "for nombre,modelo in modelos:\n",
    "    #EXACTITUD\n",
    "    resultado_accuracy.append((nombre,exactitud[i]/30))\n",
    "    #TASA DE ERROR\n",
    "    resultado_error.append((nombre,error[i]/30))\n",
    "    #PRECISION\n",
    "    resultado_precision.append((nombre,precision[i]/30))\n",
    "    #SENSIVILIDAD\n",
    "    resultado_sensitivity.append((nombre,sensitivity[i]/30))\n",
    "    #ESPECIFIDAD\n",
    "    resultado_specifity.append((nombre,specifity[i]/30))\n",
    "    i += 1\n",
    "\n",
    "resultado_accuracy.sort(key=lambda k:k[1], reverse=True)\n",
    "resultado_error.sort(key=lambda k:k[1], reverse=True)\n",
    "resultado_precision.sort(key=lambda k:k[1], reverse=True)\n",
    "resultado_sensitivity.sort(key=lambda k:k[1], reverse=True)\n",
    "resultado_specifity.sort(key=lambda k:k[1], reverse=True)\n",
    "print(\"\\nExactitud\\n\")\n",
    "resultado_accuracy"
   ]
  },
  {
   "cell_type": "code",
   "execution_count": 23,
   "id": "7e23ac73",
   "metadata": {},
   "outputs": [
    {
     "name": "stdout",
     "output_type": "stream",
     "text": [
      "Tasa de error\n"
     ]
    },
    {
     "data": {
      "text/plain": [
       "[('Ridge', 0.20716694772344016),\n",
       " ('Extra Tree', 0.16736930860033727),\n",
       " ('RN', 0.16363125351320965),\n",
       " ('Decision Tree', 0.15109612141652615),\n",
       " ('KNN', 0.08948847667228778)]"
      ]
     },
     "execution_count": 23,
     "metadata": {},
     "output_type": "execute_result"
    }
   ],
   "source": [
    "print(\"Tasa de error\")\n",
    "resultado_error"
   ]
  },
  {
   "cell_type": "code",
   "execution_count": 24,
   "id": "91dc71ce",
   "metadata": {},
   "outputs": [
    {
     "name": "stdout",
     "output_type": "stream",
     "text": [
      "Precision\n"
     ]
    },
    {
     "data": {
      "text/plain": [
       "[('KNN', 0.9170205884835505),\n",
       " ('Decision Tree', 0.8451505423624454),\n",
       " ('Extra Tree', 0.8292879571420619),\n",
       " ('RN', 0.7956498038565173),\n",
       " ('Ridge', 0.7955768263963988)]"
      ]
     },
     "execution_count": 24,
     "metadata": {},
     "output_type": "execute_result"
    }
   ],
   "source": [
    "print(\"Precision\")\n",
    "resultado_precision"
   ]
  },
  {
   "cell_type": "code",
   "execution_count": 25,
   "id": "d3aeb590",
   "metadata": {},
   "outputs": [
    {
     "name": "stdout",
     "output_type": "stream",
     "text": [
      "Sensivilidad\n"
     ]
    },
    {
     "data": {
      "text/plain": [
       "[('RN', 0.9086023536747169),\n",
       " ('KNN', 0.9035122597450851),\n",
       " ('Decision Tree', 0.8558765042129752),\n",
       " ('Extra Tree', 0.8396181254388816),\n",
       " ('Ridge', 0.7907943741170783)]"
      ]
     },
     "execution_count": 25,
     "metadata": {},
     "output_type": "execute_result"
    }
   ],
   "source": [
    "print(\"Sensivilidad\")\n",
    "resultado_sensitivity"
   ]
  },
  {
   "cell_type": "code",
   "execution_count": 26,
   "id": "44158912",
   "metadata": {},
   "outputs": [
    {
     "name": "stdout",
     "output_type": "stream",
     "text": [
      "Especifidad\n"
     ]
    },
    {
     "data": {
      "text/plain": [
       "[('KNN', 0.9175414776516736),\n",
       " ('Decision Tree', 0.8419443845705445),\n",
       " ('Extra Tree', 0.8257689605883735),\n",
       " ('Ridge', 0.795092335081688),\n",
       " ('RN', 0.7644359687773552)]"
      ]
     },
     "execution_count": 26,
     "metadata": {},
     "output_type": "execute_result"
    }
   ],
   "source": [
    "print(\"Especifidad\")\n",
    "resultado_specifity"
   ]
  },
  {
   "cell_type": "code",
   "execution_count": 27,
   "id": "54b0caac",
   "metadata": {},
   "outputs": [],
   "source": [
    "resultado_accuracy.clear()\n",
    "resultado_error.clear()\n",
    "resultado_precision.clear()\n",
    "resultado_sensitivity.clear()\n",
    "resultado_specifity.clear()\n",
    "exactitud.clear()\n",
    "error.clear()\n",
    "precision.clear()\n",
    "sensitivity.clear()\n",
    "specifity.clear()"
   ]
  },
  {
   "cell_type": "code",
   "execution_count": 28,
   "id": "8bfe4411",
   "metadata": {},
   "outputs": [
    {
     "name": "stdout",
     "output_type": "stream",
     "text": [
      "Matriz de confusion  Total   Recognition (%)\n",
      "TP: 213.5  FN: 23.7    |237.2  |90.008\n",
      "FP: 49.4  TN: 187.8    |237.2  |79.174\n",
      "T:  262.9     211.5    |474.4 |84.591\n",
      "\n",
      "Exactitud\n",
      "\n"
     ]
    },
    {
     "data": {
      "text/plain": [
       "[('KNN', 0.8459106239460371),\n",
       " ('Decision Tree', 0.7670741989881956),\n",
       " ('Extra Tree', 0.7514755480607083),\n",
       " ('Ridge', 0.7339797639123102),\n",
       " ('RN', 0.3104974704890388)]"
      ]
     },
     "execution_count": 28,
     "metadata": {},
     "output_type": "execute_result"
    }
   ],
   "source": [
    "#K-fold (K=10)\n",
    "exactitud = [0,0,0,0,0]\n",
    "error = [0,0,0,0,0]\n",
    "precision = [0,0,0,0,0]\n",
    "sensitivity = [0,0,0,0,0]\n",
    "specifity = [0,0,0,0,0]\n",
    "\n",
    "tn2=[0,0,0,0,0]\n",
    "fp2=[0,0,0,0,0]\n",
    "fn2=[0,0,0,0,0]\n",
    "tp2=[0,0,0,0,0]\n",
    "\n",
    "kf = KFold(n_splits=10)\n",
    "\n",
    "for train,test in kf.split(x_res):\n",
    "    j=0\n",
    "    X_train, X_test, Y_train, Y_test = x_res[train], x_res[test], y_res[train], y_res[test]\n",
    "\n",
    "    for nombre,modelo in modelos:\n",
    "        modelo.fit(X_train,Y_train)\n",
    "        y_pred = modelo.predict(X_test)\n",
    "        tn, fp, fn, tp = confusion_matrix(Y_test,y_pred, labels=[0,1]).ravel()\n",
    "        \n",
    "        tn2[j] += tn\n",
    "        fp2[j] += fp\n",
    "        fn2[j] += fn\n",
    "        tp2[j] += tp\n",
    "        \n",
    "        j += 1\n",
    "        \n",
    "i = 0\n",
    "for nombre,modelo in modelos:\n",
    "    #EXACTITUD\n",
    "    resultado_accuracy.append((nombre,(tp2[i]+tn2[i])/(tp2[i]+fp2[i]+tn2[i]+fn2[i])))\n",
    "    #TASA DE ERROR\n",
    "    resultado_error.append((nombre,(fp2[i]+fn2[i])/(tp2[i]+fp2[i]+tn2[i]+fn2[i])))\n",
    "    #PRECISION\n",
    "    resultado_precision.append((nombre,tp2[i]/(tp2[i]+fp2[i])))\n",
    "    #SENSIVILIDAD\n",
    "    resultado_sensitivity.append((nombre,tp2[i]/(tp2[i]+fn2[i])))\n",
    "    #ESPECIFIDAD\n",
    "    resultado_specifity.append((nombre,tn2[i]/(fp2[i]+tn2[i])))\n",
    "    i += 1\n",
    "    \n",
    "tn2[0] /= 10\n",
    "fp2[0] /= 10\n",
    "fn2[0] /= 10\n",
    "tp2[0] /= 10\n",
    "\n",
    "print(\"Matriz de confusion  Total   Recognition (%)\")\n",
    "print(\"TP: \"+str(tp2[0])+\"  FN: \"+str(fn2[0])+\"    |\"+str(round((tp2[0]+fn2[0]),3))+\"  |\"+str(0 if (tp2[0]+fn2[0]) == 0 else round((tp2[0]*100)/(tp2[0]+fn2[0]),3)))\n",
    "print(\"FP: \"+str(fp2[0])+\"  TN: \"+str(tn2[0])+\"    |\"+str(round((fp2[0]+tn2[0]),3))+\"  |\"+str(0 if (tp2[0]+fn2[0]) == 0 else round((tn2[0]*100)/(tn2[0]+fp2[0]),3)))\n",
    "print(\"T:  \"+str(tp2[0]+fp2[0])+\"     \"+str(fn2[0]+tn2[0])+\"    |\"+str(round((tp2[0]+fn2[0]+fp2[0]+tn2[0]),3))+\" |\"+str(0 if (tp2[0]+fn2[0]+fp2[0]+tn2[0]) == 0 else round((tp2[0]+tn2[0])*100/(tp2[0]+fn2[0]+fp2[0]+tn2[0]),3)))\n",
    "\n",
    "resultado_accuracy.sort(key=lambda k:k[1], reverse=True)\n",
    "resultado_error.sort(key=lambda k:k[1], reverse=True)\n",
    "resultado_precision.sort(key=lambda k:k[1], reverse=True)\n",
    "resultado_sensitivity.sort(key=lambda k:k[1], reverse=True)\n",
    "resultado_specifity.sort(key=lambda k:k[1], reverse=True)\n",
    "print(\"\\nExactitud\\n\")\n",
    "resultado_accuracy"
   ]
  },
  {
   "cell_type": "code",
   "execution_count": 29,
   "id": "36d56200",
   "metadata": {},
   "outputs": [
    {
     "name": "stdout",
     "output_type": "stream",
     "text": [
      "Tasa de error\n"
     ]
    },
    {
     "data": {
      "text/plain": [
       "[('RN', 0.6895025295109612),\n",
       " ('Ridge', 0.2660202360876897),\n",
       " ('Extra Tree', 0.24852445193929174),\n",
       " ('Decision Tree', 0.23292580101180438),\n",
       " ('KNN', 0.1540893760539629)]"
      ]
     },
     "execution_count": 29,
     "metadata": {},
     "output_type": "execute_result"
    }
   ],
   "source": [
    "print(\"Tasa de error\")\n",
    "resultado_error"
   ]
  },
  {
   "cell_type": "code",
   "execution_count": 30,
   "id": "16c5b166",
   "metadata": {},
   "outputs": [
    {
     "name": "stdout",
     "output_type": "stream",
     "text": [
      "Precision\n"
     ]
    },
    {
     "data": {
      "text/plain": [
       "[('KNN', 0.8120958539368581),\n",
       " ('Decision Tree', 0.726654740608229),\n",
       " ('Ridge', 0.7252435064935064),\n",
       " ('Extra Tree', 0.7180987202925045),\n",
       " ('RN', 0.38266771078047507)]"
      ]
     },
     "execution_count": 30,
     "metadata": {},
     "output_type": "execute_result"
    }
   ],
   "source": [
    "print(\"Precision\")\n",
    "resultado_precision"
   ]
  },
  {
   "cell_type": "code",
   "execution_count": 31,
   "id": "87006851",
   "metadata": {},
   "outputs": [
    {
     "name": "stdout",
     "output_type": "stream",
     "text": [
      "Sensivilidad\n"
     ]
    },
    {
     "data": {
      "text/plain": [
       "[('KNN', 0.9000843170320405),\n",
       " ('Decision Tree', 0.856239460370995),\n",
       " ('Extra Tree', 0.8279932546374368),\n",
       " ('Ridge', 0.7533726812816189),\n",
       " ('RN', 0.6180438448566611)]"
      ]
     },
     "execution_count": 31,
     "metadata": {},
     "output_type": "execute_result"
    }
   ],
   "source": [
    "print(\"Sensivilidad\")\n",
    "resultado_sensitivity"
   ]
  },
  {
   "cell_type": "code",
   "execution_count": 32,
   "id": "12cbe4be",
   "metadata": {},
   "outputs": [
    {
     "name": "stdout",
     "output_type": "stream",
     "text": [
      "Especifidad\n"
     ]
    },
    {
     "data": {
      "text/plain": [
       "[('KNN', 0.7917369308600337),\n",
       " ('Ridge', 0.7145868465430016),\n",
       " ('Decision Tree', 0.6779089376053963),\n",
       " ('Extra Tree', 0.6749578414839797),\n",
       " ('RN', 0.002951096121416526)]"
      ]
     },
     "execution_count": 32,
     "metadata": {},
     "output_type": "execute_result"
    }
   ],
   "source": [
    "print(\"Especifidad\")\n",
    "resultado_specifity"
   ]
  },
  {
   "cell_type": "code",
   "execution_count": 33,
   "id": "1a53ca38",
   "metadata": {},
   "outputs": [],
   "source": [
    "resultado_accuracy.clear()\n",
    "resultado_error.clear()\n",
    "resultado_precision.clear()\n",
    "resultado_sensitivity.clear()\n",
    "resultado_specifity.clear()"
   ]
  },
  {
   "cell_type": "code",
   "execution_count": 34,
   "id": "f19e49f2",
   "metadata": {},
   "outputs": [
    {
     "name": "stdout",
     "output_type": "stream",
     "text": [
      "Matriz de confusion  Total   Recognition (%)\n",
      "TP: 0.469  FN: 0.031    |0.5  |93.718\n",
      "FP: 0.037  TN: 0.463    |0.5  |92.58\n",
      "T:  0.506     0.494    |1.0 |93.149\n",
      "\n",
      "Exactitud\n",
      "\n"
     ]
    },
    {
     "data": {
      "text/plain": [
       "[('KNN', 0.9314924114671164),\n",
       " ('Decision Tree', 0.8699409780775716),\n",
       " ('Extra Tree', 0.8556070826306914),\n",
       " ('RN', 0.8507588532883642),\n",
       " ('Ridge', 0.7970067453625632)]"
      ]
     },
     "execution_count": 34,
     "metadata": {},
     "output_type": "execute_result"
    }
   ],
   "source": [
    "#Leave One Out\n",
    "exactitud = [0,0,0,0,0]\n",
    "error = [0,0,0,0,0]\n",
    "precision = [0,0,0,0,0]\n",
    "sensitivity = [0,0,0,0,0]\n",
    "specifity = [0,0,0,0,0]\n",
    "\n",
    "tn2=[0,0,0,0,0]\n",
    "fp2=[0,0,0,0,0]\n",
    "fn2=[0,0,0,0,0]\n",
    "tp2=[0,0,0,0,0]\n",
    "\n",
    "loo = LeaveOneOut()\n",
    "\n",
    "for train,test in loo.split(x_res):\n",
    "    j=0\n",
    "    X_train, X_test, Y_train, Y_test = x_res[train], x_res[test], y_res[train], y_res[test]\n",
    "\n",
    "    for nombre,modelo in modelos:\n",
    "        modelo.fit(X_train,Y_train)\n",
    "        y_pred = modelo.predict(X_test)\n",
    "        tn, fp, fn, tp = confusion_matrix(Y_test,y_pred, labels=[0,1]).ravel()\n",
    "        \n",
    "        tn2[j] += tn\n",
    "        fp2[j] += fp\n",
    "        fn2[j] += fn\n",
    "        tp2[j] += tp\n",
    "        \n",
    "        j += 1\n",
    "        \n",
    "i = 0\n",
    "for nombre,modelo in modelos:\n",
    "    #EXACTITUD\n",
    "    resultado_accuracy.append((nombre,(tp2[i]+tn2[i])/(tp2[i]+fp2[i]+tn2[i]+fn2[i])))\n",
    "    #TASA DE ERROR\n",
    "    resultado_error.append((nombre,(fp2[i]+fn2[i])/(tp2[i]+fp2[i]+tn2[i]+fn2[i])))\n",
    "    #PRECISION\n",
    "    resultado_precision.append((nombre,tp2[i]/(tp2[i]+fp2[i])))\n",
    "    #SENSIVILIDAD\n",
    "    resultado_sensitivity.append((nombre,tp2[i]/(tp2[i]+fn2[i])))\n",
    "    #ESPECIFIDAD\n",
    "    resultado_specifity.append((nombre,tn2[i]/(fp2[i]+tn2[i])))\n",
    "    i += 1\n",
    "\n",
    "tn2[0] /= len(x_res)\n",
    "fp2[0] /= len(x_res)\n",
    "fn2[0] /= len(x_res)\n",
    "tp2[0] /= len(x_res)\n",
    "    \n",
    "print(\"Matriz de confusion  Total   Recognition (%)\")\n",
    "print(\"TP: \"+str(round(tp2[0],3))+\"  FN: \"+str(round(fn2[0],3))+\"    |\"+str(round((tp2[0]+fn2[0]),3))+\"  |\"+str(0 if (tp2[0]+fn2[0]) == 0 else round((tp2[0]*100)/(tp2[0]+fn2[0]),3)))\n",
    "print(\"FP: \"+str(round(fp2[0],3))+\"  TN: \"+str(round(tn2[0],3))+\"    |\"+str(round((fp2[0]+tn2[0]),3))+\"  |\"+str(0 if (tp2[0]+fn2[0]) == 0 else round((tn2[0]*100)/(tn2[0]+fp2[0]),3)))\n",
    "print(\"T:  \"+str(round((tp2[0]+fp2[0]),3))+\"     \"+str(round((fn2[0]+tn2[0]),3))+\"    |\"+str(round((tp2[0]+fn2[0]+fp2[0]+tn2[0]),3))+\" |\"+str(0 if (tp2[0]+fn2[0]+fp2[0]+tn2[0]) == 0 else round((tp2[0]+tn2[0])*100/(tp2[0]+fn2[0]+fp2[0]+tn2[0]),3)))\n",
    "\n",
    "resultado_accuracy.sort(key=lambda k:k[1], reverse=True)\n",
    "resultado_error.sort(key=lambda k:k[1], reverse=True)\n",
    "resultado_precision.sort(key=lambda k:k[1], reverse=True)\n",
    "resultado_sensitivity.sort(key=lambda k:k[1], reverse=True)\n",
    "resultado_specifity.sort(key=lambda k:k[1], reverse=True)\n",
    "print(\"\\nExactitud\\n\")\n",
    "resultado_accuracy"
   ]
  },
  {
   "cell_type": "code",
   "execution_count": 35,
   "id": "e2996c55",
   "metadata": {},
   "outputs": [
    {
     "name": "stdout",
     "output_type": "stream",
     "text": [
      "Tasa de error\n"
     ]
    },
    {
     "data": {
      "text/plain": [
       "[('Ridge', 0.20299325463743675),\n",
       " ('RN', 0.14924114671163574),\n",
       " ('Extra Tree', 0.1443929173693086),\n",
       " ('Decision Tree', 0.13005902192242833),\n",
       " ('KNN', 0.06850758853288365)]"
      ]
     },
     "execution_count": 35,
     "metadata": {},
     "output_type": "execute_result"
    }
   ],
   "source": [
    "print(\"Tasa de error\")\n",
    "resultado_error"
   ]
  },
  {
   "cell_type": "code",
   "execution_count": 36,
   "id": "309444bf",
   "metadata": {},
   "outputs": [
    {
     "name": "stdout",
     "output_type": "stream",
     "text": [
      "Precision\n"
     ]
    },
    {
     "data": {
      "text/plain": [
       "[('KNN', 0.9266360983743226),\n",
       " ('Decision Tree', 0.8666945256999582),\n",
       " ('Extra Tree', 0.8484097480380008),\n",
       " ('RN', 0.8054331864904553),\n",
       " ('Ridge', 0.7968815844922039)]"
      ]
     },
     "execution_count": 36,
     "metadata": {},
     "output_type": "execute_result"
    }
   ],
   "source": [
    "print(\"Precision\")\n",
    "resultado_precision"
   ]
  },
  {
   "cell_type": "code",
   "execution_count": 37,
   "id": "680806cf",
   "metadata": {},
   "outputs": [
    {
     "name": "stdout",
     "output_type": "stream",
     "text": [
      "Sensivilidad\n"
     ]
    },
    {
     "data": {
      "text/plain": [
       "[('KNN', 0.9371838111298483),\n",
       " ('RN', 0.9249578414839797),\n",
       " ('Decision Tree', 0.8743676222596964),\n",
       " ('Extra Tree', 0.8659359190556493),\n",
       " ('Ridge', 0.7972175379426644)]"
      ]
     },
     "execution_count": 37,
     "metadata": {},
     "output_type": "execute_result"
    }
   ],
   "source": [
    "print(\"Sensivilidad\")\n",
    "resultado_sensitivity"
   ]
  },
  {
   "cell_type": "code",
   "execution_count": 38,
   "id": "59159d86",
   "metadata": {},
   "outputs": [
    {
     "name": "stdout",
     "output_type": "stream",
     "text": [
      "Especifidad\n"
     ]
    },
    {
     "data": {
      "text/plain": [
       "[('KNN', 0.9258010118043845),\n",
       " ('Decision Tree', 0.8655143338954469),\n",
       " ('Extra Tree', 0.8452782462057336),\n",
       " ('Ridge', 0.7967959527824621),\n",
       " ('RN', 0.7765598650927488)]"
      ]
     },
     "execution_count": 38,
     "metadata": {},
     "output_type": "execute_result"
    }
   ],
   "source": [
    "print(\"Especifidad\")\n",
    "resultado_specifity"
   ]
  },
  {
   "cell_type": "code",
   "execution_count": 39,
   "id": "e43ed5ca",
   "metadata": {},
   "outputs": [],
   "source": [
    "resultado_accuracy.clear()\n",
    "resultado_error.clear()\n",
    "resultado_precision.clear()\n",
    "resultado_sensitivity.clear()\n",
    "resultado_specifity.clear()"
   ]
  },
  {
   "cell_type": "code",
   "execution_count": 40,
   "id": "389b9a12",
   "metadata": {},
   "outputs": [
    {
     "name": "stdout",
     "output_type": "stream",
     "text": [
      "Matriz de confusion    Total   Recognition (%)\n",
      "TP: 219.8  FN: 17.4    |237.2  |92.664\n",
      "FP: 37.9  TN: 199.3    |237.2  |84.022\n",
      "T:  257.7     216.7    |474.4 |88.343\n",
      "\n",
      "Exactitud\n",
      "\n"
     ]
    },
    {
     "data": {
      "text/plain": [
       "[('KNN', 0.8834159449256053),\n",
       " ('Decision Tree', 0.8066897623806352),\n",
       " ('Extra Tree', 0.8010024428159006),\n",
       " ('RN', 0.792388629802354),\n",
       " ('Ridge', 0.7879369309349322)]"
      ]
     },
     "execution_count": 40,
     "metadata": {},
     "output_type": "execute_result"
    }
   ],
   "source": [
    "#Stratified cross-validation (K=10)\n",
    "exactitud = [0,0,0,0,0]\n",
    "error = [0,0,0,0,0]\n",
    "precision = [0,0,0,0,0]\n",
    "sensitivity = [0,0,0,0,0]\n",
    "specifity = [0,0,0,0,0]\n",
    "\n",
    "tn2=0\n",
    "fp2=0\n",
    "fn2=0\n",
    "tp2=0\n",
    "\n",
    "skf = StratifiedKFold(n_splits=10)\n",
    "\n",
    "for train,test in skf.split(x_res,y_res):\n",
    "    j=0\n",
    "    X_train, X_test, Y_train, Y_test = x_res[train], x_res[test], y_res[train], y_res[test]\n",
    "\n",
    "    for nombre,modelo in modelos:\n",
    "        modelo.fit(X_train,Y_train)\n",
    "        y_pred = modelo.predict(X_test)\n",
    "        tn, fp, fn, tp = confusion_matrix(Y_test,y_pred, labels=[0,1]).ravel()\n",
    "        if nombre == 'KNN':\n",
    "            tn2 += tn\n",
    "            fp2 += fp\n",
    "            fn2 += fn\n",
    "            tp2 += tp\n",
    "        #EXACTITUD\n",
    "        if (tp+fp+tn+fn) != 0:\n",
    "            exactitud[j] += (tp+tn)/(tp+fp+tn+fn)\n",
    "        #TASA DE ERROR\n",
    "            error[j] += (fp+fn)/(tp+fp+tn+fn)\n",
    "        #PRECISION\n",
    "        if (tp+fp) != 0:\n",
    "            precision[j] += tp/(tp+fp)\n",
    "        #SENSIVILIDAD\n",
    "        if (tp+fn) != 0:\n",
    "            sensitivity[j] += tp/(tp+fn)\n",
    "        #ESPECIFIDAD\n",
    "        if (tn+fp) != 0:\n",
    "            specifity[j] += tn/(fp+tn)\n",
    "        j += 1\n",
    "\n",
    "tn2 /= 10\n",
    "fp2 /= 10\n",
    "fn2 /= 10\n",
    "tp2 /= 10\n",
    "\n",
    "print(\"Matriz de confusion    Total   Recognition (%)\")\n",
    "print(\"TP: \"+str(tp2)+\"  FN: \"+str(fn2)+\"    |\"+str(round((tp2+fn2),3))+\"  |\"+str(0 if (tp2+fn2) == 0 else round((tp2*100)/(tp2+fn2),3)))\n",
    "print(\"FP: \"+str(fp2)+\"  TN: \"+str(tn2)+\"    |\"+str(round((fp2+tn2),3))+\"  |\"+str(0 if (tp2+fn2) == 0 else round((tn2*100)/(tn2+fp2),3)))\n",
    "print(\"T:  \"+str(tp2+fp2)+\"     \"+str(round((fn2+tn2),3))+\"    |\"+str(round((tp2+fn2+fp2+tn2),3))+\" |\"+str(0 if (tp2+fn2+fp2+tn2) == 0 else round((tp2+tn2)*100/(tp2+fn2+fp2+tn2),3)))\n",
    "\n",
    "i = 0\n",
    "for nombre,modelo in modelos:\n",
    "    #EXACTITUD\n",
    "    resultado_accuracy.append((nombre,exactitud[i]/10))\n",
    "    #TASA DE ERROR\n",
    "    resultado_error.append((nombre,error[i]/10))\n",
    "    #PRECISION\n",
    "    resultado_precision.append((nombre,precision[i]/10))\n",
    "    #SENSIVILIDAD\n",
    "    resultado_sensitivity.append((nombre,sensitivity[i]/10))\n",
    "    #ESPECIFIDAD\n",
    "    resultado_specifity.append((nombre,specifity[i]/10))\n",
    "    i += 1\n",
    "\n",
    "resultado_accuracy.sort(key=lambda k:k[1], reverse=True)\n",
    "resultado_error.sort(key=lambda k:k[1], reverse=True)\n",
    "resultado_precision.sort(key=lambda k:k[1], reverse=True)\n",
    "resultado_sensitivity.sort(key=lambda k:k[1], reverse=True)\n",
    "resultado_specifity.sort(key=lambda k:k[1], reverse=True)\n",
    "print(\"\\nExactitud\\n\")\n",
    "resultado_accuracy"
   ]
  },
  {
   "cell_type": "code",
   "execution_count": 41,
   "id": "03592ed5",
   "metadata": {},
   "outputs": [
    {
     "name": "stdout",
     "output_type": "stream",
     "text": [
      "Tasa de error\n"
     ]
    },
    {
     "data": {
      "text/plain": [
       "[('Ridge', 0.2120630690650677),\n",
       " ('RN', 0.207611370197646),\n",
       " ('Extra Tree', 0.1989975571840995),\n",
       " ('Decision Tree', 0.19331023761936486),\n",
       " ('KNN', 0.11658405507439484)]"
      ]
     },
     "execution_count": 41,
     "metadata": {},
     "output_type": "execute_result"
    }
   ],
   "source": [
    "print(\"Tasa de error\")\n",
    "resultado_error"
   ]
  },
  {
   "cell_type": "code",
   "execution_count": 42,
   "id": "50a709f3",
   "metadata": {},
   "outputs": [
    {
     "name": "stdout",
     "output_type": "stream",
     "text": [
      "Precision\n"
     ]
    },
    {
     "data": {
      "text/plain": [
       "[('KNN', 0.854679296196247),\n",
       " ('Ridge', 0.7881384910657501),\n",
       " ('Decision Tree', 0.7725201268809185),\n",
       " ('Extra Tree', 0.7710564529235089),\n",
       " ('RN', 0.748776474934726)]"
      ]
     },
     "execution_count": 42,
     "metadata": {},
     "output_type": "execute_result"
    }
   ],
   "source": [
    "print(\"Precision\")\n",
    "resultado_precision"
   ]
  },
  {
   "cell_type": "code",
   "execution_count": 43,
   "id": "0247156f",
   "metadata": {},
   "outputs": [
    {
     "name": "stdout",
     "output_type": "stream",
     "text": [
      "Sensivilidad\n"
     ]
    },
    {
     "data": {
      "text/plain": [
       "[('KNN', 0.926644328617523),\n",
       " ('RN', 0.9198985923483317),\n",
       " ('Decision Tree', 0.8748058717157751),\n",
       " ('Extra Tree', 0.8596177711590964),\n",
       " ('Ridge', 0.7976545048399106)]"
      ]
     },
     "execution_count": 43,
     "metadata": {},
     "output_type": "execute_result"
    }
   ],
   "source": [
    "print(\"Sensivilidad\")\n",
    "resultado_sensitivity"
   ]
  },
  {
   "cell_type": "code",
   "execution_count": 44,
   "id": "17971144",
   "metadata": {},
   "outputs": [
    {
     "name": "stdout",
     "output_type": "stream",
     "text": [
      "Especifidad\n"
     ]
    },
    {
     "data": {
      "text/plain": [
       "[('KNN', 0.8401801226819842),\n",
       " ('Ridge', 0.7782274935290572),\n",
       " ('Extra Tree', 0.7423873346807078),\n",
       " ('Decision Tree', 0.7385774562989752),\n",
       " ('RN', 0.6649079885118604)]"
      ]
     },
     "execution_count": 44,
     "metadata": {},
     "output_type": "execute_result"
    }
   ],
   "source": [
    "print(\"Especifidad\")\n",
    "resultado_specifity"
   ]
  },
  {
   "cell_type": "code",
   "execution_count": 45,
   "id": "3f814e91",
   "metadata": {},
   "outputs": [],
   "source": [
    "resultado_accuracy.clear()\n",
    "resultado_error.clear()\n",
    "resultado_precision.clear()\n",
    "resultado_sensitivity.clear()\n",
    "resultado_specifity.clear()"
   ]
  },
  {
   "cell_type": "code",
   "execution_count": null,
   "id": "7eb476f6",
   "metadata": {},
   "outputs": [],
   "source": []
  }
 ],
 "metadata": {
  "kernelspec": {
   "display_name": "Python 3 (ipykernel)",
   "language": "python",
   "name": "python3"
  },
  "language_info": {
   "codemirror_mode": {
    "name": "ipython",
    "version": 3
   },
   "file_extension": ".py",
   "mimetype": "text/x-python",
   "name": "python",
   "nbconvert_exporter": "python",
   "pygments_lexer": "ipython3",
   "version": "3.9.16"
  }
 },
 "nbformat": 4,
 "nbformat_minor": 5
}
