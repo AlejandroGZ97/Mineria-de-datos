{
 "cells": [
  {
   "cell_type": "code",
   "execution_count": 1,
   "id": "393848b7",
   "metadata": {},
   "outputs": [],
   "source": [
    "import pandas as pd\n",
    "import numpy as np\n",
    "from matplotlib import pyplot as plt\n",
    "import seaborn as sns"
   ]
  },
  {
   "cell_type": "code",
   "execution_count": 2,
   "id": "1c708ad2",
   "metadata": {},
   "outputs": [],
   "source": [
    "df = pd.read_csv('Activity recognition exp/Phones_accelerometer.csv')\n",
    "df2 = pd.read_csv('Activity recognition exp/Phones_gyroscope.csv')\n",
    "df3 = pd.read_csv('Activity recognition exp/Watch_accelerometer.csv')\n",
    "df4 = pd.read_csv('Activity recognition exp/Watch_gyroscope.csv')"
   ]
  },
  {
   "cell_type": "code",
   "execution_count": 3,
   "id": "a3e7e8e1",
   "metadata": {},
   "outputs": [
    {
     "data": {
      "text/html": [
       "<div>\n",
       "<style scoped>\n",
       "    .dataframe tbody tr th:only-of-type {\n",
       "        vertical-align: middle;\n",
       "    }\n",
       "\n",
       "    .dataframe tbody tr th {\n",
       "        vertical-align: top;\n",
       "    }\n",
       "\n",
       "    .dataframe thead th {\n",
       "        text-align: right;\n",
       "    }\n",
       "</style>\n",
       "<table border=\"1\" class=\"dataframe\">\n",
       "  <thead>\n",
       "    <tr style=\"text-align: right;\">\n",
       "      <th></th>\n",
       "      <th>Index</th>\n",
       "      <th>Arrival_Time</th>\n",
       "      <th>Creation_Time</th>\n",
       "      <th>x</th>\n",
       "      <th>y</th>\n",
       "      <th>z</th>\n",
       "      <th>User</th>\n",
       "      <th>Model</th>\n",
       "      <th>Device</th>\n",
       "      <th>gt</th>\n",
       "    </tr>\n",
       "  </thead>\n",
       "  <tbody>\n",
       "    <tr>\n",
       "      <th>0</th>\n",
       "      <td>0</td>\n",
       "      <td>1424696633908</td>\n",
       "      <td>1424696631913248572</td>\n",
       "      <td>-5.958191</td>\n",
       "      <td>0.688065</td>\n",
       "      <td>8.135345</td>\n",
       "      <td>a</td>\n",
       "      <td>nexus4</td>\n",
       "      <td>nexus4_1</td>\n",
       "      <td>stand</td>\n",
       "    </tr>\n",
       "    <tr>\n",
       "      <th>1</th>\n",
       "      <td>1</td>\n",
       "      <td>1424696633909</td>\n",
       "      <td>1424696631918283972</td>\n",
       "      <td>-5.952240</td>\n",
       "      <td>0.670212</td>\n",
       "      <td>8.136536</td>\n",
       "      <td>a</td>\n",
       "      <td>nexus4</td>\n",
       "      <td>nexus4_1</td>\n",
       "      <td>stand</td>\n",
       "    </tr>\n",
       "    <tr>\n",
       "      <th>2</th>\n",
       "      <td>2</td>\n",
       "      <td>1424696633918</td>\n",
       "      <td>1424696631923288855</td>\n",
       "      <td>-5.995087</td>\n",
       "      <td>0.653549</td>\n",
       "      <td>8.204376</td>\n",
       "      <td>a</td>\n",
       "      <td>nexus4</td>\n",
       "      <td>nexus4_1</td>\n",
       "      <td>stand</td>\n",
       "    </tr>\n",
       "    <tr>\n",
       "      <th>3</th>\n",
       "      <td>3</td>\n",
       "      <td>1424696633919</td>\n",
       "      <td>1424696631928385290</td>\n",
       "      <td>-5.942718</td>\n",
       "      <td>0.676163</td>\n",
       "      <td>8.128204</td>\n",
       "      <td>a</td>\n",
       "      <td>nexus4</td>\n",
       "      <td>nexus4_1</td>\n",
       "      <td>stand</td>\n",
       "    </tr>\n",
       "    <tr>\n",
       "      <th>4</th>\n",
       "      <td>4</td>\n",
       "      <td>1424696633929</td>\n",
       "      <td>1424696631933420691</td>\n",
       "      <td>-5.991516</td>\n",
       "      <td>0.641647</td>\n",
       "      <td>8.135345</td>\n",
       "      <td>a</td>\n",
       "      <td>nexus4</td>\n",
       "      <td>nexus4_1</td>\n",
       "      <td>stand</td>\n",
       "    </tr>\n",
       "  </tbody>\n",
       "</table>\n",
       "</div>"
      ],
      "text/plain": [
       "   Index   Arrival_Time        Creation_Time         x         y         z  \\\n",
       "0      0  1424696633908  1424696631913248572 -5.958191  0.688065  8.135345   \n",
       "1      1  1424696633909  1424696631918283972 -5.952240  0.670212  8.136536   \n",
       "2      2  1424696633918  1424696631923288855 -5.995087  0.653549  8.204376   \n",
       "3      3  1424696633919  1424696631928385290 -5.942718  0.676163  8.128204   \n",
       "4      4  1424696633929  1424696631933420691 -5.991516  0.641647  8.135345   \n",
       "\n",
       "  User   Model    Device     gt  \n",
       "0    a  nexus4  nexus4_1  stand  \n",
       "1    a  nexus4  nexus4_1  stand  \n",
       "2    a  nexus4  nexus4_1  stand  \n",
       "3    a  nexus4  nexus4_1  stand  \n",
       "4    a  nexus4  nexus4_1  stand  "
      ]
     },
     "execution_count": 3,
     "metadata": {},
     "output_type": "execute_result"
    }
   ],
   "source": [
    "df.head()"
   ]
  },
  {
   "cell_type": "code",
   "execution_count": 4,
   "id": "510e7e35",
   "metadata": {},
   "outputs": [
    {
     "data": {
      "text/html": [
       "<div>\n",
       "<style scoped>\n",
       "    .dataframe tbody tr th:only-of-type {\n",
       "        vertical-align: middle;\n",
       "    }\n",
       "\n",
       "    .dataframe tbody tr th {\n",
       "        vertical-align: top;\n",
       "    }\n",
       "\n",
       "    .dataframe thead th {\n",
       "        text-align: right;\n",
       "    }\n",
       "</style>\n",
       "<table border=\"1\" class=\"dataframe\">\n",
       "  <thead>\n",
       "    <tr style=\"text-align: right;\">\n",
       "      <th></th>\n",
       "      <th>Index</th>\n",
       "      <th>Arrival_Time</th>\n",
       "      <th>Creation_Time</th>\n",
       "      <th>x</th>\n",
       "      <th>y</th>\n",
       "      <th>z</th>\n",
       "      <th>User</th>\n",
       "      <th>Model</th>\n",
       "      <th>Device</th>\n",
       "      <th>gt</th>\n",
       "    </tr>\n",
       "  </thead>\n",
       "  <tbody>\n",
       "    <tr>\n",
       "      <th>0</th>\n",
       "      <td>0</td>\n",
       "      <td>1424696633909</td>\n",
       "      <td>1424696631914042029</td>\n",
       "      <td>0.013748</td>\n",
       "      <td>-0.000626</td>\n",
       "      <td>-0.023376</td>\n",
       "      <td>a</td>\n",
       "      <td>nexus4</td>\n",
       "      <td>nexus4_1</td>\n",
       "      <td>stand</td>\n",
       "    </tr>\n",
       "    <tr>\n",
       "      <th>1</th>\n",
       "      <td>1</td>\n",
       "      <td>1424696633909</td>\n",
       "      <td>1424696631919046912</td>\n",
       "      <td>0.014816</td>\n",
       "      <td>-0.001694</td>\n",
       "      <td>-0.022308</td>\n",
       "      <td>a</td>\n",
       "      <td>nexus4</td>\n",
       "      <td>nexus4_1</td>\n",
       "      <td>stand</td>\n",
       "    </tr>\n",
       "    <tr>\n",
       "      <th>2</th>\n",
       "      <td>2</td>\n",
       "      <td>1424696633918</td>\n",
       "      <td>1424696631924051794</td>\n",
       "      <td>0.015884</td>\n",
       "      <td>-0.001694</td>\n",
       "      <td>-0.021240</td>\n",
       "      <td>a</td>\n",
       "      <td>nexus4</td>\n",
       "      <td>nexus4_1</td>\n",
       "      <td>stand</td>\n",
       "    </tr>\n",
       "    <tr>\n",
       "      <th>3</th>\n",
       "      <td>3</td>\n",
       "      <td>1424696633919</td>\n",
       "      <td>1424696631929117712</td>\n",
       "      <td>0.016953</td>\n",
       "      <td>-0.003830</td>\n",
       "      <td>-0.020172</td>\n",
       "      <td>a</td>\n",
       "      <td>nexus4</td>\n",
       "      <td>nexus4_1</td>\n",
       "      <td>stand</td>\n",
       "    </tr>\n",
       "    <tr>\n",
       "      <th>4</th>\n",
       "      <td>4</td>\n",
       "      <td>1424696633928</td>\n",
       "      <td>1424696631934214148</td>\n",
       "      <td>0.015884</td>\n",
       "      <td>-0.007034</td>\n",
       "      <td>-0.020172</td>\n",
       "      <td>a</td>\n",
       "      <td>nexus4</td>\n",
       "      <td>nexus4_1</td>\n",
       "      <td>stand</td>\n",
       "    </tr>\n",
       "  </tbody>\n",
       "</table>\n",
       "</div>"
      ],
      "text/plain": [
       "   Index   Arrival_Time        Creation_Time         x         y         z  \\\n",
       "0      0  1424696633909  1424696631914042029  0.013748 -0.000626 -0.023376   \n",
       "1      1  1424696633909  1424696631919046912  0.014816 -0.001694 -0.022308   \n",
       "2      2  1424696633918  1424696631924051794  0.015884 -0.001694 -0.021240   \n",
       "3      3  1424696633919  1424696631929117712  0.016953 -0.003830 -0.020172   \n",
       "4      4  1424696633928  1424696631934214148  0.015884 -0.007034 -0.020172   \n",
       "\n",
       "  User   Model    Device     gt  \n",
       "0    a  nexus4  nexus4_1  stand  \n",
       "1    a  nexus4  nexus4_1  stand  \n",
       "2    a  nexus4  nexus4_1  stand  \n",
       "3    a  nexus4  nexus4_1  stand  \n",
       "4    a  nexus4  nexus4_1  stand  "
      ]
     },
     "execution_count": 4,
     "metadata": {},
     "output_type": "execute_result"
    }
   ],
   "source": [
    "df2.head()"
   ]
  },
  {
   "cell_type": "code",
   "execution_count": 5,
   "id": "c0396916",
   "metadata": {},
   "outputs": [
    {
     "data": {
      "text/html": [
       "<div>\n",
       "<style scoped>\n",
       "    .dataframe tbody tr th:only-of-type {\n",
       "        vertical-align: middle;\n",
       "    }\n",
       "\n",
       "    .dataframe tbody tr th {\n",
       "        vertical-align: top;\n",
       "    }\n",
       "\n",
       "    .dataframe thead th {\n",
       "        text-align: right;\n",
       "    }\n",
       "</style>\n",
       "<table border=\"1\" class=\"dataframe\">\n",
       "  <thead>\n",
       "    <tr style=\"text-align: right;\">\n",
       "      <th></th>\n",
       "      <th>Index</th>\n",
       "      <th>Arrival_Time</th>\n",
       "      <th>Creation_Time</th>\n",
       "      <th>x</th>\n",
       "      <th>y</th>\n",
       "      <th>z</th>\n",
       "      <th>User</th>\n",
       "      <th>Model</th>\n",
       "      <th>Device</th>\n",
       "      <th>gt</th>\n",
       "    </tr>\n",
       "  </thead>\n",
       "  <tbody>\n",
       "    <tr>\n",
       "      <th>0</th>\n",
       "      <td>0</td>\n",
       "      <td>1424696638740</td>\n",
       "      <td>27920678471000</td>\n",
       "      <td>-0.565032</td>\n",
       "      <td>-9.572019</td>\n",
       "      <td>-0.614113</td>\n",
       "      <td>a</td>\n",
       "      <td>gear</td>\n",
       "      <td>gear_1</td>\n",
       "      <td>stand</td>\n",
       "    </tr>\n",
       "    <tr>\n",
       "      <th>1</th>\n",
       "      <td>1</td>\n",
       "      <td>1424696638740</td>\n",
       "      <td>27920681910000</td>\n",
       "      <td>-0.832584</td>\n",
       "      <td>-9.713276</td>\n",
       "      <td>-0.606930</td>\n",
       "      <td>a</td>\n",
       "      <td>gear</td>\n",
       "      <td>gear_1</td>\n",
       "      <td>stand</td>\n",
       "    </tr>\n",
       "    <tr>\n",
       "      <th>2</th>\n",
       "      <td>2</td>\n",
       "      <td>1424696638740</td>\n",
       "      <td>27920692014000</td>\n",
       "      <td>-1.018134</td>\n",
       "      <td>-9.935339</td>\n",
       "      <td>-0.544082</td>\n",
       "      <td>a</td>\n",
       "      <td>gear</td>\n",
       "      <td>gear_1</td>\n",
       "      <td>stand</td>\n",
       "    </tr>\n",
       "    <tr>\n",
       "      <th>3</th>\n",
       "      <td>3</td>\n",
       "      <td>1424696638741</td>\n",
       "      <td>27920701983000</td>\n",
       "      <td>-1.222838</td>\n",
       "      <td>-10.142437</td>\n",
       "      <td>-0.566229</td>\n",
       "      <td>a</td>\n",
       "      <td>gear</td>\n",
       "      <td>gear_1</td>\n",
       "      <td>stand</td>\n",
       "    </tr>\n",
       "    <tr>\n",
       "      <th>4</th>\n",
       "      <td>4</td>\n",
       "      <td>1424696638741</td>\n",
       "      <td>27920711906000</td>\n",
       "      <td>-1.577180</td>\n",
       "      <td>-10.480618</td>\n",
       "      <td>-0.402824</td>\n",
       "      <td>a</td>\n",
       "      <td>gear</td>\n",
       "      <td>gear_1</td>\n",
       "      <td>stand</td>\n",
       "    </tr>\n",
       "  </tbody>\n",
       "</table>\n",
       "</div>"
      ],
      "text/plain": [
       "   Index   Arrival_Time   Creation_Time         x          y         z User  \\\n",
       "0      0  1424696638740  27920678471000 -0.565032  -9.572019 -0.614113    a   \n",
       "1      1  1424696638740  27920681910000 -0.832584  -9.713276 -0.606930    a   \n",
       "2      2  1424696638740  27920692014000 -1.018134  -9.935339 -0.544082    a   \n",
       "3      3  1424696638741  27920701983000 -1.222838 -10.142437 -0.566229    a   \n",
       "4      4  1424696638741  27920711906000 -1.577180 -10.480618 -0.402824    a   \n",
       "\n",
       "  Model  Device     gt  \n",
       "0  gear  gear_1  stand  \n",
       "1  gear  gear_1  stand  \n",
       "2  gear  gear_1  stand  \n",
       "3  gear  gear_1  stand  \n",
       "4  gear  gear_1  stand  "
      ]
     },
     "execution_count": 5,
     "metadata": {},
     "output_type": "execute_result"
    }
   ],
   "source": [
    "df3.head()"
   ]
  },
  {
   "cell_type": "code",
   "execution_count": 6,
   "id": "3242367f",
   "metadata": {},
   "outputs": [
    {
     "data": {
      "text/html": [
       "<div>\n",
       "<style scoped>\n",
       "    .dataframe tbody tr th:only-of-type {\n",
       "        vertical-align: middle;\n",
       "    }\n",
       "\n",
       "    .dataframe tbody tr th {\n",
       "        vertical-align: top;\n",
       "    }\n",
       "\n",
       "    .dataframe thead th {\n",
       "        text-align: right;\n",
       "    }\n",
       "</style>\n",
       "<table border=\"1\" class=\"dataframe\">\n",
       "  <thead>\n",
       "    <tr style=\"text-align: right;\">\n",
       "      <th></th>\n",
       "      <th>Index</th>\n",
       "      <th>Arrival_Time</th>\n",
       "      <th>Creation_Time</th>\n",
       "      <th>x</th>\n",
       "      <th>y</th>\n",
       "      <th>z</th>\n",
       "      <th>User</th>\n",
       "      <th>Model</th>\n",
       "      <th>Device</th>\n",
       "      <th>gt</th>\n",
       "    </tr>\n",
       "  </thead>\n",
       "  <tbody>\n",
       "    <tr>\n",
       "      <th>0</th>\n",
       "      <td>0</td>\n",
       "      <td>1424696638743</td>\n",
       "      <td>27920678496000</td>\n",
       "      <td>-0.162187</td>\n",
       "      <td>-0.022104</td>\n",
       "      <td>0.059655</td>\n",
       "      <td>a</td>\n",
       "      <td>gear</td>\n",
       "      <td>gear_1</td>\n",
       "      <td>stand</td>\n",
       "    </tr>\n",
       "    <tr>\n",
       "      <th>1</th>\n",
       "      <td>1</td>\n",
       "      <td>1424696638743</td>\n",
       "      <td>27920681926000</td>\n",
       "      <td>-0.183225</td>\n",
       "      <td>-0.061785</td>\n",
       "      <td>0.012517</td>\n",
       "      <td>a</td>\n",
       "      <td>gear</td>\n",
       "      <td>gear_1</td>\n",
       "      <td>stand</td>\n",
       "    </tr>\n",
       "    <tr>\n",
       "      <th>2</th>\n",
       "      <td>2</td>\n",
       "      <td>1424696638743</td>\n",
       "      <td>27920692031000</td>\n",
       "      <td>-0.180829</td>\n",
       "      <td>-0.108657</td>\n",
       "      <td>-0.036485</td>\n",
       "      <td>a</td>\n",
       "      <td>gear</td>\n",
       "      <td>gear_1</td>\n",
       "      <td>stand</td>\n",
       "    </tr>\n",
       "    <tr>\n",
       "      <th>3</th>\n",
       "      <td>3</td>\n",
       "      <td>1424696638743</td>\n",
       "      <td>27920701997000</td>\n",
       "      <td>-0.147805</td>\n",
       "      <td>-0.157925</td>\n",
       "      <td>-0.098537</td>\n",
       "      <td>a</td>\n",
       "      <td>gear</td>\n",
       "      <td>gear_1</td>\n",
       "      <td>stand</td>\n",
       "    </tr>\n",
       "    <tr>\n",
       "      <th>4</th>\n",
       "      <td>7</td>\n",
       "      <td>1424696638744</td>\n",
       "      <td>27920743068000</td>\n",
       "      <td>0.182160</td>\n",
       "      <td>-0.323574</td>\n",
       "      <td>-0.277235</td>\n",
       "      <td>a</td>\n",
       "      <td>gear</td>\n",
       "      <td>gear_1</td>\n",
       "      <td>stand</td>\n",
       "    </tr>\n",
       "  </tbody>\n",
       "</table>\n",
       "</div>"
      ],
      "text/plain": [
       "   Index   Arrival_Time   Creation_Time         x         y         z User  \\\n",
       "0      0  1424696638743  27920678496000 -0.162187 -0.022104  0.059655    a   \n",
       "1      1  1424696638743  27920681926000 -0.183225 -0.061785  0.012517    a   \n",
       "2      2  1424696638743  27920692031000 -0.180829 -0.108657 -0.036485    a   \n",
       "3      3  1424696638743  27920701997000 -0.147805 -0.157925 -0.098537    a   \n",
       "4      7  1424696638744  27920743068000  0.182160 -0.323574 -0.277235    a   \n",
       "\n",
       "  Model  Device     gt  \n",
       "0  gear  gear_1  stand  \n",
       "1  gear  gear_1  stand  \n",
       "2  gear  gear_1  stand  \n",
       "3  gear  gear_1  stand  \n",
       "4  gear  gear_1  stand  "
      ]
     },
     "execution_count": 6,
     "metadata": {},
     "output_type": "execute_result"
    }
   ],
   "source": [
    "df4.head()"
   ]
  },
  {
   "cell_type": "code",
   "execution_count": 7,
   "id": "48f880de",
   "metadata": {},
   "outputs": [
    {
     "name": "stdout",
     "output_type": "stream",
     "text": [
      "<class 'pandas.core.frame.DataFrame'>\n",
      "RangeIndex: 13062475 entries, 0 to 13062474\n",
      "Data columns (total 10 columns):\n",
      " #   Column         Dtype  \n",
      "---  ------         -----  \n",
      " 0   Index          int64  \n",
      " 1   Arrival_Time   int64  \n",
      " 2   Creation_Time  int64  \n",
      " 3   x              float64\n",
      " 4   y              float64\n",
      " 5   z              float64\n",
      " 6   User           object \n",
      " 7   Model          object \n",
      " 8   Device         object \n",
      " 9   gt             object \n",
      "dtypes: float64(3), int64(3), object(4)\n",
      "memory usage: 996.6+ MB\n"
     ]
    }
   ],
   "source": [
    "df.info()"
   ]
  },
  {
   "cell_type": "code",
   "execution_count": 8,
   "id": "89c7bed5",
   "metadata": {},
   "outputs": [
    {
     "name": "stdout",
     "output_type": "stream",
     "text": [
      "<class 'pandas.core.frame.DataFrame'>\n",
      "RangeIndex: 13932632 entries, 0 to 13932631\n",
      "Data columns (total 10 columns):\n",
      " #   Column         Dtype  \n",
      "---  ------         -----  \n",
      " 0   Index          int64  \n",
      " 1   Arrival_Time   int64  \n",
      " 2   Creation_Time  int64  \n",
      " 3   x              float64\n",
      " 4   y              float64\n",
      " 5   z              float64\n",
      " 6   User           object \n",
      " 7   Model          object \n",
      " 8   Device         object \n",
      " 9   gt             object \n",
      "dtypes: float64(3), int64(3), object(4)\n",
      "memory usage: 1.0+ GB\n"
     ]
    }
   ],
   "source": [
    "df2.info()"
   ]
  },
  {
   "cell_type": "code",
   "execution_count": 9,
   "id": "186c6a59",
   "metadata": {},
   "outputs": [
    {
     "name": "stdout",
     "output_type": "stream",
     "text": [
      "<class 'pandas.core.frame.DataFrame'>\n",
      "RangeIndex: 3540962 entries, 0 to 3540961\n",
      "Data columns (total 10 columns):\n",
      " #   Column         Dtype  \n",
      "---  ------         -----  \n",
      " 0   Index          int64  \n",
      " 1   Arrival_Time   int64  \n",
      " 2   Creation_Time  int64  \n",
      " 3   x              float64\n",
      " 4   y              float64\n",
      " 5   z              float64\n",
      " 6   User           object \n",
      " 7   Model          object \n",
      " 8   Device         object \n",
      " 9   gt             object \n",
      "dtypes: float64(3), int64(3), object(4)\n",
      "memory usage: 270.2+ MB\n"
     ]
    }
   ],
   "source": [
    "df3.info()"
   ]
  },
  {
   "cell_type": "code",
   "execution_count": 10,
   "id": "0db16294",
   "metadata": {},
   "outputs": [
    {
     "name": "stdout",
     "output_type": "stream",
     "text": [
      "<class 'pandas.core.frame.DataFrame'>\n",
      "RangeIndex: 3205431 entries, 0 to 3205430\n",
      "Data columns (total 10 columns):\n",
      " #   Column         Dtype  \n",
      "---  ------         -----  \n",
      " 0   Index          int64  \n",
      " 1   Arrival_Time   int64  \n",
      " 2   Creation_Time  int64  \n",
      " 3   x              float64\n",
      " 4   y              float64\n",
      " 5   z              float64\n",
      " 6   User           object \n",
      " 7   Model          object \n",
      " 8   Device         object \n",
      " 9   gt             object \n",
      "dtypes: float64(3), int64(3), object(4)\n",
      "memory usage: 244.6+ MB\n"
     ]
    }
   ],
   "source": [
    "df4.info()"
   ]
  },
  {
   "cell_type": "code",
   "execution_count": 11,
   "id": "e9d0b3a1",
   "metadata": {},
   "outputs": [
    {
     "data": {
      "text/plain": [
       "Index                  0\n",
       "Arrival_Time           0\n",
       "Creation_Time          0\n",
       "x                      0\n",
       "y                      0\n",
       "z                      0\n",
       "User                   0\n",
       "Model                  0\n",
       "Device                 0\n",
       "gt               1783200\n",
       "dtype: int64"
      ]
     },
     "execution_count": 11,
     "metadata": {},
     "output_type": "execute_result"
    }
   ],
   "source": [
    "df.isnull().sum()"
   ]
  },
  {
   "cell_type": "code",
   "execution_count": 12,
   "id": "9b4ab4e3",
   "metadata": {},
   "outputs": [
    {
     "data": {
      "text/plain": [
       "Index                  0\n",
       "Arrival_Time           0\n",
       "Creation_Time          0\n",
       "x                      0\n",
       "y                      0\n",
       "z                      0\n",
       "User                   0\n",
       "Model                  0\n",
       "Device                 0\n",
       "gt               1869627\n",
       "dtype: int64"
      ]
     },
     "execution_count": 12,
     "metadata": {},
     "output_type": "execute_result"
    }
   ],
   "source": [
    "df2.isnull().sum()"
   ]
  },
  {
   "cell_type": "code",
   "execution_count": 13,
   "id": "d35a9787",
   "metadata": {},
   "outputs": [
    {
     "data": {
      "text/plain": [
       "Index                 0\n",
       "Arrival_Time          0\n",
       "Creation_Time         0\n",
       "x                     0\n",
       "y                     0\n",
       "z                     0\n",
       "User                  0\n",
       "Model                 0\n",
       "Device                0\n",
       "gt               520357\n",
       "dtype: int64"
      ]
     },
     "execution_count": 13,
     "metadata": {},
     "output_type": "execute_result"
    }
   ],
   "source": [
    "df3.isnull().sum()"
   ]
  },
  {
   "cell_type": "code",
   "execution_count": 14,
   "id": "00920f4b",
   "metadata": {},
   "outputs": [
    {
     "data": {
      "text/plain": [
       "Index                 0\n",
       "Arrival_Time          0\n",
       "Creation_Time         0\n",
       "x                     0\n",
       "y                     0\n",
       "z                     0\n",
       "User                  0\n",
       "Model                 0\n",
       "Device                0\n",
       "gt               470429\n",
       "dtype: int64"
      ]
     },
     "execution_count": 14,
     "metadata": {},
     "output_type": "execute_result"
    }
   ],
   "source": [
    "df4.isnull().sum()"
   ]
  },
  {
   "cell_type": "code",
   "execution_count": 15,
   "id": "5d5c86e8",
   "metadata": {},
   "outputs": [
    {
     "data": {
      "text/plain": [
       "Index            0\n",
       "Arrival_Time     0\n",
       "Creation_Time    0\n",
       "x                0\n",
       "y                0\n",
       "z                0\n",
       "User             0\n",
       "Model            0\n",
       "Device           0\n",
       "gt               0\n",
       "dtype: int64"
      ]
     },
     "execution_count": 15,
     "metadata": {},
     "output_type": "execute_result"
    }
   ],
   "source": [
    "df_droprow = df.dropna()\n",
    "df_droprow.isnull().sum()"
   ]
  },
  {
   "cell_type": "code",
   "execution_count": 16,
   "id": "dab2c4ec",
   "metadata": {},
   "outputs": [
    {
     "data": {
      "text/plain": [
       "Index            0\n",
       "Arrival_Time     0\n",
       "Creation_Time    0\n",
       "x                0\n",
       "y                0\n",
       "z                0\n",
       "User             0\n",
       "Model            0\n",
       "Device           0\n",
       "gt               0\n",
       "dtype: int64"
      ]
     },
     "execution_count": 16,
     "metadata": {},
     "output_type": "execute_result"
    }
   ],
   "source": [
    "df_filling = df.fillna(method = 'bfill', axis = 0).fillna(0)\n",
    "df_filling.isnull().sum()"
   ]
  },
  {
   "cell_type": "code",
   "execution_count": 17,
   "id": "dd07302b",
   "metadata": {},
   "outputs": [
    {
     "data": {
      "text/plain": [
       "gt\n",
       "bike          1845557\n",
       "sit           1991919\n",
       "stairsdown    1615896\n",
       "stairsup      1782010\n",
       "stand         1851492\n",
       "walk          2192401\n",
       "dtype: int64"
      ]
     },
     "execution_count": 17,
     "metadata": {},
     "output_type": "execute_result"
    }
   ],
   "source": [
    "gt = df.groupby(['gt']).size()\n",
    "gt"
   ]
  },
  {
   "cell_type": "code",
   "execution_count": 18,
   "id": "57587e6e",
   "metadata": {},
   "outputs": [
    {
     "data": {
      "text/plain": [
       "Index                  0\n",
       "Arrival_Time           0\n",
       "Creation_Time          0\n",
       "x                      0\n",
       "y                      0\n",
       "z                      0\n",
       "User                   0\n",
       "Model                  0\n",
       "Device                 0\n",
       "gt               1783200\n",
       "dtype: int64"
      ]
     },
     "execution_count": 18,
     "metadata": {},
     "output_type": "execute_result"
    }
   ],
   "source": [
    "for dato in df['gt'].head(5):\n",
    "    if dato == 'stand':\n",
    "        dato = 'null'\n",
    "df.isnull().sum()"
   ]
  },
  {
   "cell_type": "code",
   "execution_count": 19,
   "id": "95534cfe",
   "metadata": {},
   "outputs": [
    {
     "data": {
      "text/plain": [
       "gt\n",
       "bike          1845557\n",
       "sit           1991919\n",
       "stairsdown    1615896\n",
       "stairsup      1782010\n",
       "stand         1851492\n",
       "walk          2192401\n",
       "dtype: int64"
      ]
     },
     "execution_count": 19,
     "metadata": {},
     "output_type": "execute_result"
    }
   ],
   "source": [
    "gt = df.groupby(['gt']).size()\n",
    "gt"
   ]
  },
  {
   "cell_type": "code",
   "execution_count": 20,
   "id": "732e46da",
   "metadata": {},
   "outputs": [
    {
     "data": {
      "text/plain": [
       "0           stand\n",
       "1           stand\n",
       "2           stand\n",
       "3           stand\n",
       "4           stand\n",
       "            ...  \n",
       "13062470     bike\n",
       "13062471     bike\n",
       "13062472     bike\n",
       "13062473     bike\n",
       "13062474     bike\n",
       "Name: gt, Length: 13062475, dtype: object"
      ]
     },
     "execution_count": 20,
     "metadata": {},
     "output_type": "execute_result"
    }
   ],
   "source": [
    "df['gt'].fillna('walk', inplace=True)\n",
    "df['gt']"
   ]
  },
  {
   "cell_type": "code",
   "execution_count": 22,
   "id": "ce09db65",
   "metadata": {},
   "outputs": [
    {
     "data": {
      "text/plain": [
       "Index            0\n",
       "Arrival_Time     0\n",
       "Creation_Time    0\n",
       "x                0\n",
       "y                0\n",
       "z                0\n",
       "User             0\n",
       "Model            0\n",
       "Device           0\n",
       "gt               0\n",
       "dtype: int64"
      ]
     },
     "execution_count": 22,
     "metadata": {},
     "output_type": "execute_result"
    }
   ],
   "source": [
    "df.isnull().sum()"
   ]
  },
  {
   "cell_type": "code",
   "execution_count": null,
   "id": "0dd7e809",
   "metadata": {},
   "outputs": [],
   "source": []
  }
 ],
 "metadata": {
  "kernelspec": {
   "display_name": "Python 3 (ipykernel)",
   "language": "python",
   "name": "python3"
  },
  "language_info": {
   "codemirror_mode": {
    "name": "ipython",
    "version": 3
   },
   "file_extension": ".py",
   "mimetype": "text/x-python",
   "name": "python",
   "nbconvert_exporter": "python",
   "pygments_lexer": "ipython3",
   "version": "3.9.16"
  }
 },
 "nbformat": 4,
 "nbformat_minor": 5
}
