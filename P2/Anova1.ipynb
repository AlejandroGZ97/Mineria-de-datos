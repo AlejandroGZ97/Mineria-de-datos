{
 "cells": [
  {
   "cell_type": "code",
   "execution_count": 1,
   "id": "af70192a",
   "metadata": {},
   "outputs": [],
   "source": [
    "import pandas as pd\n",
    "from scipy.stats import f_oneway"
   ]
  },
  {
   "cell_type": "code",
   "execution_count": 2,
   "id": "7c8b8469",
   "metadata": {},
   "outputs": [],
   "source": [
    "df = pd.read_csv('../P1/iris.csv')"
   ]
  },
  {
   "cell_type": "code",
   "execution_count": 3,
   "id": "46b8cc16",
   "metadata": {},
   "outputs": [
    {
     "data": {
      "text/html": [
       "<div>\n",
       "<style scoped>\n",
       "    .dataframe tbody tr th:only-of-type {\n",
       "        vertical-align: middle;\n",
       "    }\n",
       "\n",
       "    .dataframe tbody tr th {\n",
       "        vertical-align: top;\n",
       "    }\n",
       "\n",
       "    .dataframe thead th {\n",
       "        text-align: right;\n",
       "    }\n",
       "</style>\n",
       "<table border=\"1\" class=\"dataframe\">\n",
       "  <thead>\n",
       "    <tr style=\"text-align: right;\">\n",
       "      <th></th>\n",
       "      <th>sepal_length</th>\n",
       "      <th>sepal_width</th>\n",
       "      <th>petal_length</th>\n",
       "      <th>petal_width</th>\n",
       "      <th>species</th>\n",
       "    </tr>\n",
       "  </thead>\n",
       "  <tbody>\n",
       "    <tr>\n",
       "      <th>0</th>\n",
       "      <td>5.1</td>\n",
       "      <td>3.5</td>\n",
       "      <td>1.4</td>\n",
       "      <td>0.2</td>\n",
       "      <td>setosa</td>\n",
       "    </tr>\n",
       "    <tr>\n",
       "      <th>1</th>\n",
       "      <td>4.9</td>\n",
       "      <td>3.0</td>\n",
       "      <td>1.4</td>\n",
       "      <td>0.2</td>\n",
       "      <td>setosa</td>\n",
       "    </tr>\n",
       "    <tr>\n",
       "      <th>2</th>\n",
       "      <td>4.7</td>\n",
       "      <td>3.2</td>\n",
       "      <td>1.3</td>\n",
       "      <td>0.2</td>\n",
       "      <td>setosa</td>\n",
       "    </tr>\n",
       "    <tr>\n",
       "      <th>3</th>\n",
       "      <td>4.6</td>\n",
       "      <td>3.1</td>\n",
       "      <td>1.5</td>\n",
       "      <td>0.2</td>\n",
       "      <td>setosa</td>\n",
       "    </tr>\n",
       "    <tr>\n",
       "      <th>4</th>\n",
       "      <td>5.0</td>\n",
       "      <td>3.6</td>\n",
       "      <td>1.4</td>\n",
       "      <td>0.2</td>\n",
       "      <td>setosa</td>\n",
       "    </tr>\n",
       "  </tbody>\n",
       "</table>\n",
       "</div>"
      ],
      "text/plain": [
       "   sepal_length  sepal_width  petal_length  petal_width species\n",
       "0           5.1          3.5           1.4          0.2  setosa\n",
       "1           4.9          3.0           1.4          0.2  setosa\n",
       "2           4.7          3.2           1.3          0.2  setosa\n",
       "3           4.6          3.1           1.5          0.2  setosa\n",
       "4           5.0          3.6           1.4          0.2  setosa"
      ]
     },
     "execution_count": 3,
     "metadata": {},
     "output_type": "execute_result"
    }
   ],
   "source": [
    "df.head()"
   ]
  },
  {
   "cell_type": "code",
   "execution_count": 4,
   "id": "681ba893",
   "metadata": {},
   "outputs": [],
   "source": [
    "especie_1 = df[df[\"species\"] == \"setosa\"][\"sepal_length\"].to_list()\n",
    "especie_2 = df[df[\"species\"] == \"versicolor\"][\"sepal_length\"].to_list()\n",
    "especie_3 = df[df[\"species\"] == \"virginica\"][\"sepal_length\"].to_list()"
   ]
  },
  {
   "cell_type": "code",
   "execution_count": 5,
   "id": "fe88bd61",
   "metadata": {},
   "outputs": [
    {
     "data": {
      "text/plain": [
       "F_onewayResult(statistic=119.26450218450468, pvalue=1.6696691907693826e-31)"
      ]
     },
     "execution_count": 5,
     "metadata": {},
     "output_type": "execute_result"
    }
   ],
   "source": [
    "f_oneway(especie_1, especie_2, especie_3)"
   ]
  },
  {
   "cell_type": "code",
   "execution_count": 6,
   "id": "1b6560fd",
   "metadata": {},
   "outputs": [],
   "source": [
    "df = pd.read_csv('Diet_R.csv')"
   ]
  },
  {
   "cell_type": "code",
   "execution_count": 7,
   "id": "50c2ba08",
   "metadata": {},
   "outputs": [
    {
     "data": {
      "text/html": [
       "<div>\n",
       "<style scoped>\n",
       "    .dataframe tbody tr th:only-of-type {\n",
       "        vertical-align: middle;\n",
       "    }\n",
       "\n",
       "    .dataframe tbody tr th {\n",
       "        vertical-align: top;\n",
       "    }\n",
       "\n",
       "    .dataframe thead th {\n",
       "        text-align: right;\n",
       "    }\n",
       "</style>\n",
       "<table border=\"1\" class=\"dataframe\">\n",
       "  <thead>\n",
       "    <tr style=\"text-align: right;\">\n",
       "      <th></th>\n",
       "      <th>Person</th>\n",
       "      <th>gender</th>\n",
       "      <th>Age</th>\n",
       "      <th>Height</th>\n",
       "      <th>pre.weight</th>\n",
       "      <th>Diet</th>\n",
       "      <th>weight6weeks</th>\n",
       "    </tr>\n",
       "  </thead>\n",
       "  <tbody>\n",
       "    <tr>\n",
       "      <th>0</th>\n",
       "      <td>1</td>\n",
       "      <td>0</td>\n",
       "      <td>22</td>\n",
       "      <td>159</td>\n",
       "      <td>58</td>\n",
       "      <td>1</td>\n",
       "      <td>54.2</td>\n",
       "    </tr>\n",
       "    <tr>\n",
       "      <th>1</th>\n",
       "      <td>2</td>\n",
       "      <td>0</td>\n",
       "      <td>46</td>\n",
       "      <td>192</td>\n",
       "      <td>60</td>\n",
       "      <td>1</td>\n",
       "      <td>54.0</td>\n",
       "    </tr>\n",
       "    <tr>\n",
       "      <th>2</th>\n",
       "      <td>3</td>\n",
       "      <td>0</td>\n",
       "      <td>55</td>\n",
       "      <td>170</td>\n",
       "      <td>64</td>\n",
       "      <td>1</td>\n",
       "      <td>63.3</td>\n",
       "    </tr>\n",
       "    <tr>\n",
       "      <th>3</th>\n",
       "      <td>4</td>\n",
       "      <td>0</td>\n",
       "      <td>33</td>\n",
       "      <td>171</td>\n",
       "      <td>64</td>\n",
       "      <td>1</td>\n",
       "      <td>61.1</td>\n",
       "    </tr>\n",
       "    <tr>\n",
       "      <th>4</th>\n",
       "      <td>5</td>\n",
       "      <td>0</td>\n",
       "      <td>50</td>\n",
       "      <td>170</td>\n",
       "      <td>65</td>\n",
       "      <td>1</td>\n",
       "      <td>62.2</td>\n",
       "    </tr>\n",
       "  </tbody>\n",
       "</table>\n",
       "</div>"
      ],
      "text/plain": [
       "   Person  gender  Age  Height  pre.weight  Diet  weight6weeks\n",
       "0       1       0   22     159          58     1          54.2\n",
       "1       2       0   46     192          60     1          54.0\n",
       "2       3       0   55     170          64     1          63.3\n",
       "3       4       0   33     171          64     1          61.1\n",
       "4       5       0   50     170          65     1          62.2"
      ]
     },
     "execution_count": 7,
     "metadata": {},
     "output_type": "execute_result"
    }
   ],
   "source": [
    "df.head()"
   ]
  },
  {
   "cell_type": "code",
   "execution_count": 8,
   "id": "aa026462",
   "metadata": {},
   "outputs": [
    {
     "data": {
      "text/html": [
       "<div>\n",
       "<style scoped>\n",
       "    .dataframe tbody tr th:only-of-type {\n",
       "        vertical-align: middle;\n",
       "    }\n",
       "\n",
       "    .dataframe tbody tr th {\n",
       "        vertical-align: top;\n",
       "    }\n",
       "\n",
       "    .dataframe thead th {\n",
       "        text-align: right;\n",
       "    }\n",
       "</style>\n",
       "<table border=\"1\" class=\"dataframe\">\n",
       "  <thead>\n",
       "    <tr style=\"text-align: right;\">\n",
       "      <th></th>\n",
       "      <th>Person</th>\n",
       "      <th>gender</th>\n",
       "      <th>Age</th>\n",
       "      <th>Height</th>\n",
       "      <th>pre.weight</th>\n",
       "      <th>Diet</th>\n",
       "      <th>weight6weeks</th>\n",
       "      <th>BMI_start</th>\n",
       "      <th>BMI_end</th>\n",
       "      <th>BMI_change</th>\n",
       "    </tr>\n",
       "  </thead>\n",
       "  <tbody>\n",
       "    <tr>\n",
       "      <th>0</th>\n",
       "      <td>1</td>\n",
       "      <td>0</td>\n",
       "      <td>22</td>\n",
       "      <td>159</td>\n",
       "      <td>58</td>\n",
       "      <td>1</td>\n",
       "      <td>54.2</td>\n",
       "      <td>22.942130</td>\n",
       "      <td>21.439025</td>\n",
       "      <td>1.503105</td>\n",
       "    </tr>\n",
       "    <tr>\n",
       "      <th>1</th>\n",
       "      <td>2</td>\n",
       "      <td>0</td>\n",
       "      <td>46</td>\n",
       "      <td>192</td>\n",
       "      <td>60</td>\n",
       "      <td>1</td>\n",
       "      <td>54.0</td>\n",
       "      <td>16.276042</td>\n",
       "      <td>14.648438</td>\n",
       "      <td>1.627604</td>\n",
       "    </tr>\n",
       "    <tr>\n",
       "      <th>2</th>\n",
       "      <td>3</td>\n",
       "      <td>0</td>\n",
       "      <td>55</td>\n",
       "      <td>170</td>\n",
       "      <td>64</td>\n",
       "      <td>1</td>\n",
       "      <td>63.3</td>\n",
       "      <td>22.145329</td>\n",
       "      <td>21.903114</td>\n",
       "      <td>0.242215</td>\n",
       "    </tr>\n",
       "    <tr>\n",
       "      <th>3</th>\n",
       "      <td>4</td>\n",
       "      <td>0</td>\n",
       "      <td>33</td>\n",
       "      <td>171</td>\n",
       "      <td>64</td>\n",
       "      <td>1</td>\n",
       "      <td>61.1</td>\n",
       "      <td>21.887076</td>\n",
       "      <td>20.895318</td>\n",
       "      <td>0.991758</td>\n",
       "    </tr>\n",
       "    <tr>\n",
       "      <th>4</th>\n",
       "      <td>5</td>\n",
       "      <td>0</td>\n",
       "      <td>50</td>\n",
       "      <td>170</td>\n",
       "      <td>65</td>\n",
       "      <td>1</td>\n",
       "      <td>62.2</td>\n",
       "      <td>22.491349</td>\n",
       "      <td>21.522491</td>\n",
       "      <td>0.968858</td>\n",
       "    </tr>\n",
       "  </tbody>\n",
       "</table>\n",
       "</div>"
      ],
      "text/plain": [
       "   Person  gender  Age  Height  pre.weight  Diet  weight6weeks  BMI_start  \\\n",
       "0       1       0   22     159          58     1          54.2  22.942130   \n",
       "1       2       0   46     192          60     1          54.0  16.276042   \n",
       "2       3       0   55     170          64     1          63.3  22.145329   \n",
       "3       4       0   33     171          64     1          61.1  21.887076   \n",
       "4       5       0   50     170          65     1          62.2  22.491349   \n",
       "\n",
       "     BMI_end  BMI_change  \n",
       "0  21.439025    1.503105  \n",
       "1  14.648438    1.627604  \n",
       "2  21.903114    0.242215  \n",
       "3  20.895318    0.991758  \n",
       "4  21.522491    0.968858  "
      ]
     },
     "execution_count": 8,
     "metadata": {},
     "output_type": "execute_result"
    }
   ],
   "source": [
    "df['BMI_start'] = df[\"pre.weight\"] / (df[\"Height\"] / 100)**2\n",
    "df[\"BMI_end\"] = df[\"weight6weeks\"] / (df[\"Height\"] / 100)**2\n",
    "df[\"BMI_change\"] = df['BMI_start'] - df[\"BMI_end\"]\n",
    "df.head()"
   ]
  },
  {
   "cell_type": "code",
   "execution_count": 9,
   "id": "5701a263",
   "metadata": {},
   "outputs": [],
   "source": [
    "dieta_1 = df[df[\"Diet\"] == 1][\"BMI_change\"].to_list()\n",
    "dieta_2 = df[df[\"Diet\"] == 2][\"BMI_change\"].to_list()\n",
    "dieta_3 = df[df[\"Diet\"] == 3][\"BMI_change\"].to_list()"
   ]
  },
  {
   "cell_type": "code",
   "execution_count": 10,
   "id": "3ba83cf4",
   "metadata": {},
   "outputs": [
    {
     "data": {
      "text/plain": [
       "F_onewayResult(statistic=11.491246302710522, pvalue=3.728315951810503e-05)"
      ]
     },
     "execution_count": 10,
     "metadata": {},
     "output_type": "execute_result"
    }
   ],
   "source": [
    "f_oneway(dieta_1, dieta_2, dieta_3)"
   ]
  },
  {
   "cell_type": "code",
   "execution_count": null,
   "id": "700db094",
   "metadata": {},
   "outputs": [],
   "source": []
  }
 ],
 "metadata": {
  "kernelspec": {
   "display_name": "Python 3 (ipykernel)",
   "language": "python",
   "name": "python3"
  },
  "language_info": {
   "codemirror_mode": {
    "name": "ipython",
    "version": 3
   },
   "file_extension": ".py",
   "mimetype": "text/x-python",
   "name": "python",
   "nbconvert_exporter": "python",
   "pygments_lexer": "ipython3",
   "version": "3.9.16"
  }
 },
 "nbformat": 4,
 "nbformat_minor": 5
}
