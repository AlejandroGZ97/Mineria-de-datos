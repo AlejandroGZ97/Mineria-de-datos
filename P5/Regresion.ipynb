{
 "cells": [
  {
   "cell_type": "code",
   "execution_count": 1,
   "id": "9f441982",
   "metadata": {},
   "outputs": [],
   "source": [
    "import numpy as np\n",
    "import pandas as pd\n",
    "import matplotlib.pyplot as plt\n",
    "import seaborn as sns\n",
    "\n",
    "from sklearn.model_selection import train_test_split, KFold\n",
    "from sklearn.preprocessing import StandardScaler\n",
    "\n",
    "from sklearn.linear_model import QuantileRegressor\n",
    "from sklearn.tree import DecisionTreeRegressor\n",
    "from sklearn.neighbors import KNeighborsRegressor\n",
    "\n",
    "from sklearn.feature_selection import r_regression\n",
    "from sklearn.metrics import mean_squared_log_error, mean_squared_error, mean_absolute_error"
   ]
  },
  {
   "cell_type": "code",
   "execution_count": 2,
   "id": "15bcffba",
   "metadata": {},
   "outputs": [
    {
     "data": {
      "text/html": [
       "<div>\n",
       "<style scoped>\n",
       "    .dataframe tbody tr th:only-of-type {\n",
       "        vertical-align: middle;\n",
       "    }\n",
       "\n",
       "    .dataframe tbody tr th {\n",
       "        vertical-align: top;\n",
       "    }\n",
       "\n",
       "    .dataframe thead th {\n",
       "        text-align: right;\n",
       "    }\n",
       "</style>\n",
       "<table border=\"1\" class=\"dataframe\">\n",
       "  <thead>\n",
       "    <tr style=\"text-align: right;\">\n",
       "      <th></th>\n",
       "      <th>In1</th>\n",
       "      <th>In2</th>\n",
       "    </tr>\n",
       "  </thead>\n",
       "  <tbody>\n",
       "    <tr>\n",
       "      <th>0</th>\n",
       "      <td>17.5</td>\n",
       "      <td>576.2</td>\n",
       "    </tr>\n",
       "    <tr>\n",
       "      <th>1</th>\n",
       "      <td>35.9</td>\n",
       "      <td>598.6</td>\n",
       "    </tr>\n",
       "    <tr>\n",
       "      <th>2</th>\n",
       "      <td>31.4</td>\n",
       "      <td>612.1</td>\n",
       "    </tr>\n",
       "    <tr>\n",
       "      <th>3</th>\n",
       "      <td>23.7</td>\n",
       "      <td>624.2</td>\n",
       "    </tr>\n",
       "    <tr>\n",
       "      <th>4</th>\n",
       "      <td>20.2</td>\n",
       "      <td>635.2</td>\n",
       "    </tr>\n",
       "  </tbody>\n",
       "</table>\n",
       "</div>"
      ],
      "text/plain": [
       "    In1    In2\n",
       "0  17.5  576.2\n",
       "1  35.9  598.6\n",
       "2  31.4  612.1\n",
       "3  23.7  624.2\n",
       "4  20.2  635.2"
      ]
     },
     "execution_count": 2,
     "metadata": {},
     "output_type": "execute_result"
    }
   ],
   "source": [
    "eng_in = pd.read_csv(\"engineInputs.csv\")\n",
    "eng_in.head()"
   ]
  },
  {
   "cell_type": "code",
   "execution_count": 3,
   "id": "f4138aa1",
   "metadata": {},
   "outputs": [
    {
     "data": {
      "text/html": [
       "<div>\n",
       "<style scoped>\n",
       "    .dataframe tbody tr th:only-of-type {\n",
       "        vertical-align: middle;\n",
       "    }\n",
       "\n",
       "    .dataframe tbody tr th {\n",
       "        vertical-align: top;\n",
       "    }\n",
       "\n",
       "    .dataframe thead th {\n",
       "        text-align: right;\n",
       "    }\n",
       "</style>\n",
       "<table border=\"1\" class=\"dataframe\">\n",
       "  <thead>\n",
       "    <tr style=\"text-align: right;\">\n",
       "      <th></th>\n",
       "      <th>T1</th>\n",
       "      <th>T2</th>\n",
       "    </tr>\n",
       "  </thead>\n",
       "  <tbody>\n",
       "    <tr>\n",
       "      <th>0</th>\n",
       "      <td>57.6</td>\n",
       "      <td>848</td>\n",
       "    </tr>\n",
       "    <tr>\n",
       "      <th>1</th>\n",
       "      <td>24.8</td>\n",
       "      <td>905</td>\n",
       "    </tr>\n",
       "    <tr>\n",
       "      <th>2</th>\n",
       "      <td>22.3</td>\n",
       "      <td>578</td>\n",
       "    </tr>\n",
       "    <tr>\n",
       "      <th>3</th>\n",
       "      <td>15.6</td>\n",
       "      <td>382</td>\n",
       "    </tr>\n",
       "    <tr>\n",
       "      <th>4</th>\n",
       "      <td>16.5</td>\n",
       "      <td>298</td>\n",
       "    </tr>\n",
       "  </tbody>\n",
       "</table>\n",
       "</div>"
      ],
      "text/plain": [
       "     T1   T2\n",
       "0  57.6  848\n",
       "1  24.8  905\n",
       "2  22.3  578\n",
       "3  15.6  382\n",
       "4  16.5  298"
      ]
     },
     "execution_count": 3,
     "metadata": {},
     "output_type": "execute_result"
    }
   ],
   "source": [
    "eng_tar = pd.read_csv(\"engineTargets.csv\")\n",
    "eng_tar.head()"
   ]
  },
  {
   "cell_type": "code",
   "execution_count": 4,
   "id": "bcc99dcd",
   "metadata": {},
   "outputs": [
    {
     "name": "stdout",
     "output_type": "stream",
     "text": [
      "<class 'pandas.core.frame.DataFrame'>\n",
      "RangeIndex: 1199 entries, 0 to 1198\n",
      "Data columns (total 2 columns):\n",
      " #   Column  Non-Null Count  Dtype  \n",
      "---  ------  --------------  -----  \n",
      " 0   In1     1199 non-null   float64\n",
      " 1   In2     1199 non-null   float64\n",
      "dtypes: float64(2)\n",
      "memory usage: 18.9 KB\n"
     ]
    }
   ],
   "source": [
    "eng_in.info()"
   ]
  },
  {
   "cell_type": "code",
   "execution_count": 5,
   "id": "324761db",
   "metadata": {},
   "outputs": [
    {
     "data": {
      "text/plain": [
       "In1    0\n",
       "In2    0\n",
       "dtype: int64"
      ]
     },
     "execution_count": 5,
     "metadata": {},
     "output_type": "execute_result"
    }
   ],
   "source": [
    "eng_in.isna().sum()"
   ]
  },
  {
   "cell_type": "code",
   "execution_count": 6,
   "id": "017fe557",
   "metadata": {},
   "outputs": [
    {
     "name": "stdout",
     "output_type": "stream",
     "text": [
      "<class 'pandas.core.frame.DataFrame'>\n",
      "RangeIndex: 1199 entries, 0 to 1198\n",
      "Data columns (total 2 columns):\n",
      " #   Column  Non-Null Count  Dtype  \n",
      "---  ------  --------------  -----  \n",
      " 0   T1      1199 non-null   float64\n",
      " 1   T2      1199 non-null   int64  \n",
      "dtypes: float64(1), int64(1)\n",
      "memory usage: 18.9 KB\n"
     ]
    }
   ],
   "source": [
    "eng_tar.info()"
   ]
  },
  {
   "cell_type": "code",
   "execution_count": 7,
   "id": "e9b85ae0",
   "metadata": {},
   "outputs": [
    {
     "data": {
      "text/plain": [
       "T1    0\n",
       "T2    0\n",
       "dtype: int64"
      ]
     },
     "execution_count": 7,
     "metadata": {},
     "output_type": "execute_result"
    }
   ],
   "source": [
    "eng_tar.isna().sum()"
   ]
  },
  {
   "cell_type": "code",
   "execution_count": 8,
   "id": "8c6c604a",
   "metadata": {},
   "outputs": [
    {
     "data": {
      "text/html": [
       "<div>\n",
       "<style scoped>\n",
       "    .dataframe tbody tr th:only-of-type {\n",
       "        vertical-align: middle;\n",
       "    }\n",
       "\n",
       "    .dataframe tbody tr th {\n",
       "        vertical-align: top;\n",
       "    }\n",
       "\n",
       "    .dataframe thead th {\n",
       "        text-align: right;\n",
       "    }\n",
       "</style>\n",
       "<table border=\"1\" class=\"dataframe\">\n",
       "  <thead>\n",
       "    <tr style=\"text-align: right;\">\n",
       "      <th></th>\n",
       "      <th>In1</th>\n",
       "      <th>In2</th>\n",
       "      <th>T1</th>\n",
       "      <th>T2</th>\n",
       "    </tr>\n",
       "  </thead>\n",
       "  <tbody>\n",
       "    <tr>\n",
       "      <th>0</th>\n",
       "      <td>17.5</td>\n",
       "      <td>576.2</td>\n",
       "      <td>57.6</td>\n",
       "      <td>848</td>\n",
       "    </tr>\n",
       "    <tr>\n",
       "      <th>1</th>\n",
       "      <td>35.9</td>\n",
       "      <td>598.6</td>\n",
       "      <td>24.8</td>\n",
       "      <td>905</td>\n",
       "    </tr>\n",
       "    <tr>\n",
       "      <th>2</th>\n",
       "      <td>31.4</td>\n",
       "      <td>612.1</td>\n",
       "      <td>22.3</td>\n",
       "      <td>578</td>\n",
       "    </tr>\n",
       "    <tr>\n",
       "      <th>3</th>\n",
       "      <td>23.7</td>\n",
       "      <td>624.2</td>\n",
       "      <td>15.6</td>\n",
       "      <td>382</td>\n",
       "    </tr>\n",
       "    <tr>\n",
       "      <th>4</th>\n",
       "      <td>20.2</td>\n",
       "      <td>635.2</td>\n",
       "      <td>16.5</td>\n",
       "      <td>298</td>\n",
       "    </tr>\n",
       "  </tbody>\n",
       "</table>\n",
       "</div>"
      ],
      "text/plain": [
       "    In1    In2    T1   T2\n",
       "0  17.5  576.2  57.6  848\n",
       "1  35.9  598.6  24.8  905\n",
       "2  31.4  612.1  22.3  578\n",
       "3  23.7  624.2  15.6  382\n",
       "4  20.2  635.2  16.5  298"
      ]
     },
     "execution_count": 8,
     "metadata": {},
     "output_type": "execute_result"
    }
   ],
   "source": [
    "engine = pd.concat([eng_in.reset_index(drop=True),eng_tar.reset_index(drop=True)],axis=1)\n",
    "engine.head()"
   ]
  },
  {
   "cell_type": "code",
   "execution_count": 9,
   "id": "13a9ea92",
   "metadata": {},
   "outputs": [],
   "source": [
    "X = engine.drop(['T1', 'T2'], axis=1).values\n",
    "y1 = ((engine['T1']).values).reshape(-1, 1)\n",
    "y2 = ((engine['T2']).values).reshape(-1, 1)\n",
    "\n",
    "scaler = StandardScaler()\n",
    "y1 = scaler.fit_transform(y1)\n",
    "y2 = scaler.fit_transform(y2)"
   ]
  },
  {
   "cell_type": "code",
   "execution_count": 10,
   "id": "a7a3292d",
   "metadata": {},
   "outputs": [],
   "source": [
    "modelos = [('QR',QuantileRegressor()),\n",
    "           ('Decision Tree',DecisionTreeRegressor()),\n",
    "           ('KNN',KNeighborsRegressor())]"
   ]
  },
  {
   "cell_type": "code",
   "execution_count": 11,
   "id": "0eb7afea",
   "metadata": {},
   "outputs": [],
   "source": [
    "resultado_R = []\n",
    "resultado_R2 = []\n",
    "resultado_SSE = []\n",
    "resultado_MAE = []\n",
    "resultado_MSE = []\n",
    "resultado_RMSE = []\n",
    "resultado_RMSLE = []"
   ]
  },
  {
   "cell_type": "code",
   "execution_count": 12,
   "id": "df1651d8",
   "metadata": {},
   "outputs": [
    {
     "name": "stderr",
     "output_type": "stream",
     "text": [
      "C:\\Users\\nitus\\anaconda3\\envs\\py39_pandas\\lib\\site-packages\\sklearn\\utils\\validation.py:1143: DataConversionWarning: A column-vector y was passed when a 1d array was expected. Please change the shape of y to (n_samples, ), for example using ravel().\n",
      "  y = column_or_1d(y, warn=True)\n",
      "C:\\Users\\nitus\\anaconda3\\envs\\py39_pandas\\lib\\site-packages\\sklearn\\linear_model\\_quantile.py:186: FutureWarning: The default solver will change from 'interior-point' to 'highs' in version 1.4. Set `solver='highs'` or to the desired solver to silence this warning.\n",
      "  warnings.warn(\n",
      "C:\\Users\\nitus\\anaconda3\\envs\\py39_pandas\\lib\\site-packages\\sklearn\\utils\\validation.py:1143: DataConversionWarning: A column-vector y was passed when a 1d array was expected. Please change the shape of y to (n_samples, ), for example using ravel().\n",
      "  y = column_or_1d(y, warn=True)\n",
      "C:\\Users\\nitus\\anaconda3\\envs\\py39_pandas\\lib\\site-packages\\sklearn\\utils\\validation.py:1143: DataConversionWarning: A column-vector y was passed when a 1d array was expected. Please change the shape of y to (n_samples, ), for example using ravel().\n",
      "  y = column_or_1d(y, warn=True)\n"
     ]
    }
   ],
   "source": [
    "#Hold-Out (60/40)\n",
    "X_train, X_test, y_train, y_test = train_test_split(X, y2, test_size=0.40)\n",
    "\n",
    "for nombre,modelo in modelos:\n",
    "    modelo.fit(X_train,y_train)\n",
    "    y_pred = modelo.predict(X_test)\n",
    "    sse = ((y_test - y_pred)**2).sum\n",
    "    try:\n",
    "        RMSLE = mean_squared_log_error(y_test,y_pred,squared=False)\n",
    "    except:\n",
    "        RMSLE = 1.0\n",
    "    \n",
    "    #R (Pearson correlation coefficient)\n",
    "    resultado_R.append((nombre,r_regression(y_test,y_pred)))\n",
    "    #R2 (coefficient of determination)\n",
    "    resultado_R2.append((nombre,r_regression(y_test,y_pred)**2))\n",
    "    #SSE (sum of squared errors)\n",
    "    resultado_SSE.append((nombre,np.sum((y_test-y_pred)**2)))\n",
    "    #MAE (mean absolute error)\n",
    "    resultado_MAE.append((nombre,mean_absolute_error(y_test,y_pred)))\n",
    "    #MSE (mean squared error)\n",
    "    resultado_MSE.append((nombre,mean_squared_error(y_test,y_pred)))\n",
    "    resultado_RMSE.append((nombre,mean_squared_error(y_test,y_pred,squared=False)))\n",
    "    resultado_RMSLE.append((nombre,RMSLE))\n",
    "\n",
    "resultado_R.sort(key=lambda k:k[1], reverse=True)\n",
    "resultado_R2.sort(key=lambda k:k[1], reverse=True)\n",
    "#resultado_SSE.sort(key=lambda k:k[1], reverse=True)\n",
    "resultado_MAE.sort(key=lambda k:k[1], reverse=True)\n",
    "resultado_MSE.sort(key=lambda k:k[1], reverse=True)\n",
    "resultado_RMSE.sort(key=lambda k:k[1], reverse=True)\n",
    "resultado_RMSLE.sort(key=lambda k:k[1], reverse=True)"
   ]
  },
  {
   "cell_type": "code",
   "execution_count": 13,
   "id": "36ef885c",
   "metadata": {},
   "outputs": [
    {
     "name": "stdout",
     "output_type": "stream",
     "text": [
      "R (Pearson correlation coefficient)\n"
     ]
    },
    {
     "data": {
      "text/plain": [
       "[('KNN', array([0.99492462])),\n",
       " ('Decision Tree', array([0.99051192])),\n",
       " ('QR', array([0.76195903]))]"
      ]
     },
     "execution_count": 13,
     "metadata": {},
     "output_type": "execute_result"
    }
   ],
   "source": [
    "print(\"R (Pearson correlation coefficient)\")\n",
    "resultado_R"
   ]
  },
  {
   "cell_type": "code",
   "execution_count": 14,
   "id": "323a62d8",
   "metadata": {},
   "outputs": [
    {
     "name": "stdout",
     "output_type": "stream",
     "text": [
      "R2 (coefficient of determination)\n"
     ]
    },
    {
     "data": {
      "text/plain": [
       "[('KNN', array([0.989875])),\n",
       " ('Decision Tree', array([0.98111386])),\n",
       " ('QR', array([0.58058157]))]"
      ]
     },
     "execution_count": 14,
     "metadata": {},
     "output_type": "execute_result"
    }
   ],
   "source": [
    "print(\"R2 (coefficient of determination)\")\n",
    "resultado_R2"
   ]
  },
  {
   "cell_type": "code",
   "execution_count": 15,
   "id": "0117df71",
   "metadata": {},
   "outputs": [
    {
     "name": "stdout",
     "output_type": "stream",
     "text": [
      "SSE (sum of squared errors)\n"
     ]
    },
    {
     "data": {
      "text/plain": [
       "[('QR', 369532.2782280231),\n",
       " ('Decision Tree', 484604.36541516613),\n",
       " ('KNN', 5.327679923917815)]"
      ]
     },
     "execution_count": 15,
     "metadata": {},
     "output_type": "execute_result"
    }
   ],
   "source": [
    "print(\"SSE (sum of squared errors)\")\n",
    "resultado_SSE"
   ]
  },
  {
   "cell_type": "code",
   "execution_count": 16,
   "id": "5a5517f1",
   "metadata": {},
   "outputs": [
    {
     "name": "stdout",
     "output_type": "stream",
     "text": [
      "MAE (mean absolute error)\n"
     ]
    },
    {
     "data": {
      "text/plain": [
       "[('QR', 0.5466491401268222),\n",
       " ('Decision Tree', 0.07764868236580846),\n",
       " ('KNN', 0.05286513309613191)]"
      ]
     },
     "execution_count": 16,
     "metadata": {},
     "output_type": "execute_result"
    }
   ],
   "source": [
    "print(\"MAE (mean absolute error)\")\n",
    "resultado_MAE"
   ]
  },
  {
   "cell_type": "code",
   "execution_count": 17,
   "id": "a4254902",
   "metadata": {},
   "outputs": [
    {
     "name": "stdout",
     "output_type": "stream",
     "text": [
      "MSE (mean squared error)\n"
     ]
    },
    {
     "data": {
      "text/plain": [
       "[('QR', 0.43530032287055614),\n",
       " ('Decision Tree', 0.02026052626035389),\n",
       " ('KNN', 0.011099333174828781)]"
      ]
     },
     "execution_count": 17,
     "metadata": {},
     "output_type": "execute_result"
    }
   ],
   "source": [
    "print(\"MSE (mean squared error)\")\n",
    "resultado_MSE"
   ]
  },
  {
   "cell_type": "code",
   "execution_count": 18,
   "id": "085c01f5",
   "metadata": {},
   "outputs": [
    {
     "name": "stdout",
     "output_type": "stream",
     "text": [
      "RMSE (root mean squared error)\n"
     ]
    },
    {
     "data": {
      "text/plain": [
       "[('QR', 0.6597729328114),\n",
       " ('Decision Tree', 0.1423394754112642),\n",
       " ('KNN', 0.10535337286878281)]"
      ]
     },
     "execution_count": 18,
     "metadata": {},
     "output_type": "execute_result"
    }
   ],
   "source": [
    "print(\"RMSE (root mean squared error)\")\n",
    "resultado_RMSE"
   ]
  },
  {
   "cell_type": "code",
   "execution_count": 19,
   "id": "23384f7d",
   "metadata": {},
   "outputs": [
    {
     "name": "stdout",
     "output_type": "stream",
     "text": [
      "RMSLE (Root Mean Squared Logaritmic Error)\n"
     ]
    },
    {
     "data": {
      "text/plain": [
       "[('QR', 1.0), ('Decision Tree', 1.0), ('KNN', 1.0)]"
      ]
     },
     "execution_count": 19,
     "metadata": {},
     "output_type": "execute_result"
    }
   ],
   "source": [
    "print(\"RMSLE (Root Mean Squared Logaritmic Error)\")\n",
    "resultado_RMSLE"
   ]
  },
  {
   "cell_type": "code",
   "execution_count": 20,
   "id": "c868d1bd",
   "metadata": {},
   "outputs": [],
   "source": [
    "resultado_R.clear()\n",
    "resultado_R2.clear()\n",
    "resultado_SSE.clear()\n",
    "resultado_MAE.clear()\n",
    "resultado_MSE.clear()\n",
    "resultado_RMSE.clear()\n",
    "resultado_RMSLE.clear()"
   ]
  },
  {
   "cell_type": "code",
   "execution_count": 21,
   "id": "3c8c61fb",
   "metadata": {},
   "outputs": [],
   "source": []
  }
 ],
 "metadata": {
  "kernelspec": {
   "display_name": "Python 3 (ipykernel)",
   "language": "python",
   "name": "python3"
  },
  "language_info": {
   "codemirror_mode": {
    "name": "ipython",
    "version": 3
   },
   "file_extension": ".py",
   "mimetype": "text/x-python",
   "name": "python",
   "nbconvert_exporter": "python",
   "pygments_lexer": "ipython3",
   "version": "3.9.16"
  }
 },
 "nbformat": 4,
 "nbformat_minor": 5
}
